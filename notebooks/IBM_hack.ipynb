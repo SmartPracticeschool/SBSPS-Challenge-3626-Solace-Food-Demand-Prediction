{
  "nbformat": 4,
  "nbformat_minor": 0,
  "metadata": {
    "kernelspec": {
      "display_name": "Python 3",
      "language": "python",
      "name": "python3"
    },
    "language_info": {
      "codemirror_mode": {
        "name": "ipython",
        "version": 3
      },
      "file_extension": ".py",
      "mimetype": "text/x-python",
      "name": "python",
      "nbconvert_exporter": "python",
      "pygments_lexer": "ipython3",
      "version": "3.7.5"
    },
    "colab": {
      "name": "IBM hack",
      "provenance": [],
      "collapsed_sections": [],
      "include_colab_link": true
    },
    "accelerator": "GPU"
  },
  "cells": [
    {
      "cell_type": "markdown",
      "metadata": {
        "id": "view-in-github",
        "colab_type": "text"
      },
      "source": [
        "<a href=\"https://colab.research.google.com/github/SmartPracticeschool/SBSPS-Challenge-3626-Solace-Food-Demand-Prediction/blob/master/notebooks/IBM_hack.ipynb\" target=\"_parent\"><img src=\"https://colab.research.google.com/assets/colab-badge.svg\" alt=\"Open In Colab\"/></a>"
      ]
    },
    {
      "cell_type": "markdown",
      "metadata": {
        "id": "8pYsZiwzevm4",
        "colab_type": "text"
      },
      "source": [
        "#Start#\n",
        "Data is imported into the notebook from their corresponding .csv files. The required python modules and packages are imported."
      ]
    },
    {
      "cell_type": "code",
      "metadata": {
        "id": "9jXXfCqjjhrZ",
        "colab_type": "code",
        "colab": {
          "base_uri": "https://localhost:8080/",
          "height": 122
        },
        "outputId": "4db06fed-7fd4-40ed-8350-cbbc8e682c17"
      },
      "source": [
        "from google.colab import drive\n",
        "drive.mount('/content/gdrive')\n",
        "root = 'gdrive/My Drive/IBM Hack/data/'"
      ],
      "execution_count": null,
      "outputs": [
        {
          "output_type": "stream",
          "text": [
            "Go to this URL in a browser: https://accounts.google.com/o/oauth2/auth?client_id=947318989803-6bn6qk8qdgf4n4g3pfee6491hc0brc4i.apps.googleusercontent.com&redirect_uri=urn%3aietf%3awg%3aoauth%3a2.0%3aoob&response_type=code&scope=email%20https%3a%2f%2fwww.googleapis.com%2fauth%2fdocs.test%20https%3a%2f%2fwww.googleapis.com%2fauth%2fdrive%20https%3a%2f%2fwww.googleapis.com%2fauth%2fdrive.photos.readonly%20https%3a%2f%2fwww.googleapis.com%2fauth%2fpeopleapi.readonly\n",
            "\n",
            "Enter your authorization code:\n",
            "··········\n",
            "Mounted at /content/gdrive\n"
          ],
          "name": "stdout"
        }
      ]
    },
    {
      "cell_type": "code",
      "metadata": {
        "id": "iq8VTJ46xq57",
        "colab_type": "code",
        "colab": {}
      },
      "source": [
        "import pandas as pd\n",
        "import sklearn\n",
        "import numpy as np\n",
        "import pickle"
      ],
      "execution_count": null,
      "outputs": []
    },
    {
      "cell_type": "markdown",
      "metadata": {
        "id": "-dsTfsKzfacI",
        "colab_type": "text"
      },
      "source": [
        "\n",
        "The 3 different dataframes are merged into one to perform further operations and derive inferences. Since the no. of columns of all 3 dataframes are same, they are merged without any shape changes."
      ]
    },
    {
      "cell_type": "code",
      "metadata": {
        "id": "NGYL43FYHlbB",
        "colab_type": "code",
        "colab": {}
      },
      "source": [
        "df_raw=pd.read_csv(f\"{root}df_raw.csv\",)\n"
      ],
      "execution_count": null,
      "outputs": []
    },
    {
      "cell_type": "code",
      "metadata": {
        "id": "sCBX_7QLpNu-",
        "colab_type": "code",
        "colab": {}
      },
      "source": [
        "df_test = pd.read_csv(f\"{root}test.csv\")"
      ],
      "execution_count": null,
      "outputs": []
    },
    {
      "cell_type": "code",
      "metadata": {
        "id": "_bnxNK1btQFZ",
        "colab_type": "code",
        "colab": {}
      },
      "source": [
        "df_raw.drop(columns=[\"Unnamed: 0\"],inplace=True)"
      ],
      "execution_count": null,
      "outputs": []
    },
    {
      "cell_type": "code",
      "metadata": {
        "id": "Dpz_4rqzIA6-",
        "colab_type": "code",
        "colab": {}
      },
      "source": [
        "df_trn=df_raw.copy()"
      ],
      "execution_count": null,
      "outputs": []
    },
    {
      "cell_type": "markdown",
      "metadata": {
        "id": "Y2p9GFQYgAEp",
        "colab_type": "text"
      },
      "source": [
        "The combined dataframe is then viewed to see all the columns and it's shape."
      ]
    },
    {
      "cell_type": "code",
      "metadata": {
        "id": "ITD4WoDckSYd",
        "colab_type": "code",
        "colab": {}
      },
      "source": [
        "def to_cat(df,cols):\n",
        "  mapping={}\n",
        "  for col in cols:\n",
        "    mapping[col]={}\n",
        "    df_cat=pd.DataFrame(df[col].astype('category'))\n",
        "    unq=df[col].unique()\n",
        "    for val in unq:\n",
        "      mapping[col][val]=df_cat.loc[df_cat[col]==val,col].cat.codes.iloc[0]\n",
        "    df.loc[:,col]=df[col].astype('category').cat.codes\n",
        "  return mapping"
      ],
      "execution_count": null,
      "outputs": []
    },
    {
      "cell_type": "code",
      "metadata": {
        "id": "RBnfLUMsxq6r",
        "colab_type": "code",
        "colab": {}
      },
      "source": [
        "mapping=to_cat(df_trn,[\"category\",\"cuisine\",\"center_type\"])"
      ],
      "execution_count": null,
      "outputs": []
    },
    {
      "cell_type": "code",
      "metadata": {
        "id": "00RF2eEPDWub",
        "colab_type": "code",
        "colab": {}
      },
      "source": [
        "#df_trn=pd.concat([df_trn,a,b,c],axis=1)"
      ],
      "execution_count": null,
      "outputs": []
    },
    {
      "cell_type": "code",
      "metadata": {
        "id": "Xco1jFtxIOtT",
        "colab_type": "code",
        "colab": {}
      },
      "source": [
        "def apply_cats(df, mapping):\n",
        "  for column, map in mapping.items():\n",
        "    for cats, vals in map.items():\n",
        "      df.loc[df[column]==cats,column]=vals\n",
        "    df[column]= df[column].astype('int16')\n",
        "\n"
      ],
      "execution_count": null,
      "outputs": []
    },
    {
      "cell_type": "code",
      "metadata": {
        "id": "KJa2e-y5JBAO",
        "colab_type": "code",
        "colab": {}
      },
      "source": [
        "test_df=pd.read_csv(f\"{root}test.csv\")\n",
        "meal=pd.read_csv(f\"{root}meal_info.csv\")\n",
        "center=pd.read_csv(f\"{root}fulfilment_center_info.csv\")"
      ],
      "execution_count": null,
      "outputs": []
    },
    {
      "cell_type": "code",
      "metadata": {
        "id": "xjf0K1JFJsAP",
        "colab_type": "code",
        "colab": {}
      },
      "source": [
        "test_raw=pd.merge(test_df,meal,on='meal_id')"
      ],
      "execution_count": null,
      "outputs": []
    },
    {
      "cell_type": "code",
      "metadata": {
        "id": "k7srN3eiJ1NU",
        "colab_type": "code",
        "colab": {}
      },
      "source": [
        "df_test=pd.merge(test_raw,center,on='center_id')"
      ],
      "execution_count": null,
      "outputs": []
    },
    {
      "cell_type": "code",
      "metadata": {
        "id": "sFGuhF-gp2_y",
        "colab_type": "code",
        "colab": {
          "base_uri": "https://localhost:8080/",
          "height": 419
        },
        "outputId": "df0597a1-301f-4981-ed9b-a422dbd2edcb"
      },
      "source": [
        "test_df"
      ],
      "execution_count": null,
      "outputs": [
        {
          "output_type": "execute_result",
          "data": {
            "text/html": [
              "<div>\n",
              "<style scoped>\n",
              "    .dataframe tbody tr th:only-of-type {\n",
              "        vertical-align: middle;\n",
              "    }\n",
              "\n",
              "    .dataframe tbody tr th {\n",
              "        vertical-align: top;\n",
              "    }\n",
              "\n",
              "    .dataframe thead th {\n",
              "        text-align: right;\n",
              "    }\n",
              "</style>\n",
              "<table border=\"1\" class=\"dataframe\">\n",
              "  <thead>\n",
              "    <tr style=\"text-align: right;\">\n",
              "      <th></th>\n",
              "      <th>id</th>\n",
              "      <th>week</th>\n",
              "      <th>center_id</th>\n",
              "      <th>meal_id</th>\n",
              "      <th>checkout_price</th>\n",
              "      <th>base_price</th>\n",
              "      <th>emailer_for_promotion</th>\n",
              "      <th>homepage_featured</th>\n",
              "    </tr>\n",
              "  </thead>\n",
              "  <tbody>\n",
              "    <tr>\n",
              "      <th>0</th>\n",
              "      <td>1028232</td>\n",
              "      <td>146</td>\n",
              "      <td>55</td>\n",
              "      <td>1885</td>\n",
              "      <td>158.11</td>\n",
              "      <td>159.11</td>\n",
              "      <td>0</td>\n",
              "      <td>0</td>\n",
              "    </tr>\n",
              "    <tr>\n",
              "      <th>1</th>\n",
              "      <td>1127204</td>\n",
              "      <td>146</td>\n",
              "      <td>55</td>\n",
              "      <td>1993</td>\n",
              "      <td>160.11</td>\n",
              "      <td>159.11</td>\n",
              "      <td>0</td>\n",
              "      <td>0</td>\n",
              "    </tr>\n",
              "    <tr>\n",
              "      <th>2</th>\n",
              "      <td>1212707</td>\n",
              "      <td>146</td>\n",
              "      <td>55</td>\n",
              "      <td>2539</td>\n",
              "      <td>157.14</td>\n",
              "      <td>159.14</td>\n",
              "      <td>0</td>\n",
              "      <td>0</td>\n",
              "    </tr>\n",
              "    <tr>\n",
              "      <th>3</th>\n",
              "      <td>1082698</td>\n",
              "      <td>146</td>\n",
              "      <td>55</td>\n",
              "      <td>2631</td>\n",
              "      <td>162.02</td>\n",
              "      <td>162.02</td>\n",
              "      <td>0</td>\n",
              "      <td>0</td>\n",
              "    </tr>\n",
              "    <tr>\n",
              "      <th>4</th>\n",
              "      <td>1400926</td>\n",
              "      <td>146</td>\n",
              "      <td>55</td>\n",
              "      <td>1248</td>\n",
              "      <td>163.93</td>\n",
              "      <td>163.93</td>\n",
              "      <td>0</td>\n",
              "      <td>0</td>\n",
              "    </tr>\n",
              "    <tr>\n",
              "      <th>...</th>\n",
              "      <td>...</td>\n",
              "      <td>...</td>\n",
              "      <td>...</td>\n",
              "      <td>...</td>\n",
              "      <td>...</td>\n",
              "      <td>...</td>\n",
              "      <td>...</td>\n",
              "      <td>...</td>\n",
              "    </tr>\n",
              "    <tr>\n",
              "      <th>32568</th>\n",
              "      <td>1250239</td>\n",
              "      <td>155</td>\n",
              "      <td>61</td>\n",
              "      <td>1543</td>\n",
              "      <td>482.09</td>\n",
              "      <td>484.09</td>\n",
              "      <td>0</td>\n",
              "      <td>0</td>\n",
              "    </tr>\n",
              "    <tr>\n",
              "      <th>32569</th>\n",
              "      <td>1039516</td>\n",
              "      <td>155</td>\n",
              "      <td>61</td>\n",
              "      <td>2304</td>\n",
              "      <td>483.09</td>\n",
              "      <td>483.09</td>\n",
              "      <td>0</td>\n",
              "      <td>0</td>\n",
              "    </tr>\n",
              "    <tr>\n",
              "      <th>32570</th>\n",
              "      <td>1158107</td>\n",
              "      <td>155</td>\n",
              "      <td>61</td>\n",
              "      <td>2664</td>\n",
              "      <td>322.07</td>\n",
              "      <td>323.07</td>\n",
              "      <td>0</td>\n",
              "      <td>0</td>\n",
              "    </tr>\n",
              "    <tr>\n",
              "      <th>32571</th>\n",
              "      <td>1444235</td>\n",
              "      <td>155</td>\n",
              "      <td>61</td>\n",
              "      <td>2569</td>\n",
              "      <td>322.07</td>\n",
              "      <td>323.07</td>\n",
              "      <td>0</td>\n",
              "      <td>0</td>\n",
              "    </tr>\n",
              "    <tr>\n",
              "      <th>32572</th>\n",
              "      <td>1291286</td>\n",
              "      <td>155</td>\n",
              "      <td>61</td>\n",
              "      <td>2490</td>\n",
              "      <td>276.45</td>\n",
              "      <td>276.45</td>\n",
              "      <td>0</td>\n",
              "      <td>0</td>\n",
              "    </tr>\n",
              "  </tbody>\n",
              "</table>\n",
              "<p>32573 rows × 8 columns</p>\n",
              "</div>"
            ],
            "text/plain": [
              "            id  week  ...  emailer_for_promotion  homepage_featured\n",
              "0      1028232   146  ...                      0                  0\n",
              "1      1127204   146  ...                      0                  0\n",
              "2      1212707   146  ...                      0                  0\n",
              "3      1082698   146  ...                      0                  0\n",
              "4      1400926   146  ...                      0                  0\n",
              "...        ...   ...  ...                    ...                ...\n",
              "32568  1250239   155  ...                      0                  0\n",
              "32569  1039516   155  ...                      0                  0\n",
              "32570  1158107   155  ...                      0                  0\n",
              "32571  1444235   155  ...                      0                  0\n",
              "32572  1291286   155  ...                      0                  0\n",
              "\n",
              "[32573 rows x 8 columns]"
            ]
          },
          "metadata": {
            "tags": []
          },
          "execution_count": 14
        }
      ]
    },
    {
      "cell_type": "code",
      "metadata": {
        "id": "5LlZRIlkzO-V",
        "colab_type": "code",
        "colab": {
          "base_uri": "https://localhost:8080/",
          "height": 419
        },
        "outputId": "83c3fb2b-ff14-4ade-fae3-c3a04b583a71"
      },
      "source": [
        "test_df = test_df.merge(meal, on='meal_id')\n",
        "test_df = test_df.merge(center, on='center_id')\n",
        "\n",
        "test_df"
      ],
      "execution_count": null,
      "outputs": [
        {
          "output_type": "execute_result",
          "data": {
            "text/html": [
              "<div>\n",
              "<style scoped>\n",
              "    .dataframe tbody tr th:only-of-type {\n",
              "        vertical-align: middle;\n",
              "    }\n",
              "\n",
              "    .dataframe tbody tr th {\n",
              "        vertical-align: top;\n",
              "    }\n",
              "\n",
              "    .dataframe thead th {\n",
              "        text-align: right;\n",
              "    }\n",
              "</style>\n",
              "<table border=\"1\" class=\"dataframe\">\n",
              "  <thead>\n",
              "    <tr style=\"text-align: right;\">\n",
              "      <th></th>\n",
              "      <th>id</th>\n",
              "      <th>week</th>\n",
              "      <th>center_id</th>\n",
              "      <th>meal_id</th>\n",
              "      <th>checkout_price</th>\n",
              "      <th>base_price</th>\n",
              "      <th>emailer_for_promotion</th>\n",
              "      <th>homepage_featured</th>\n",
              "      <th>category</th>\n",
              "      <th>cuisine</th>\n",
              "      <th>city_code</th>\n",
              "      <th>region_code</th>\n",
              "      <th>center_type</th>\n",
              "      <th>op_area</th>\n",
              "    </tr>\n",
              "  </thead>\n",
              "  <tbody>\n",
              "    <tr>\n",
              "      <th>0</th>\n",
              "      <td>1028232</td>\n",
              "      <td>146</td>\n",
              "      <td>55</td>\n",
              "      <td>1885</td>\n",
              "      <td>158.11</td>\n",
              "      <td>159.11</td>\n",
              "      <td>0</td>\n",
              "      <td>0</td>\n",
              "      <td>Beverages</td>\n",
              "      <td>Thai</td>\n",
              "      <td>647</td>\n",
              "      <td>56</td>\n",
              "      <td>TYPE_C</td>\n",
              "      <td>2.0</td>\n",
              "    </tr>\n",
              "    <tr>\n",
              "      <th>1</th>\n",
              "      <td>1262649</td>\n",
              "      <td>147</td>\n",
              "      <td>55</td>\n",
              "      <td>1885</td>\n",
              "      <td>159.11</td>\n",
              "      <td>159.11</td>\n",
              "      <td>0</td>\n",
              "      <td>0</td>\n",
              "      <td>Beverages</td>\n",
              "      <td>Thai</td>\n",
              "      <td>647</td>\n",
              "      <td>56</td>\n",
              "      <td>TYPE_C</td>\n",
              "      <td>2.0</td>\n",
              "    </tr>\n",
              "    <tr>\n",
              "      <th>2</th>\n",
              "      <td>1453211</td>\n",
              "      <td>149</td>\n",
              "      <td>55</td>\n",
              "      <td>1885</td>\n",
              "      <td>157.14</td>\n",
              "      <td>158.14</td>\n",
              "      <td>0</td>\n",
              "      <td>0</td>\n",
              "      <td>Beverages</td>\n",
              "      <td>Thai</td>\n",
              "      <td>647</td>\n",
              "      <td>56</td>\n",
              "      <td>TYPE_C</td>\n",
              "      <td>2.0</td>\n",
              "    </tr>\n",
              "    <tr>\n",
              "      <th>3</th>\n",
              "      <td>1262599</td>\n",
              "      <td>150</td>\n",
              "      <td>55</td>\n",
              "      <td>1885</td>\n",
              "      <td>159.14</td>\n",
              "      <td>157.14</td>\n",
              "      <td>0</td>\n",
              "      <td>0</td>\n",
              "      <td>Beverages</td>\n",
              "      <td>Thai</td>\n",
              "      <td>647</td>\n",
              "      <td>56</td>\n",
              "      <td>TYPE_C</td>\n",
              "      <td>2.0</td>\n",
              "    </tr>\n",
              "    <tr>\n",
              "      <th>4</th>\n",
              "      <td>1495848</td>\n",
              "      <td>151</td>\n",
              "      <td>55</td>\n",
              "      <td>1885</td>\n",
              "      <td>160.11</td>\n",
              "      <td>159.11</td>\n",
              "      <td>0</td>\n",
              "      <td>0</td>\n",
              "      <td>Beverages</td>\n",
              "      <td>Thai</td>\n",
              "      <td>647</td>\n",
              "      <td>56</td>\n",
              "      <td>TYPE_C</td>\n",
              "      <td>2.0</td>\n",
              "    </tr>\n",
              "    <tr>\n",
              "      <th>...</th>\n",
              "      <td>...</td>\n",
              "      <td>...</td>\n",
              "      <td>...</td>\n",
              "      <td>...</td>\n",
              "      <td>...</td>\n",
              "      <td>...</td>\n",
              "      <td>...</td>\n",
              "      <td>...</td>\n",
              "      <td>...</td>\n",
              "      <td>...</td>\n",
              "      <td>...</td>\n",
              "      <td>...</td>\n",
              "      <td>...</td>\n",
              "      <td>...</td>\n",
              "    </tr>\n",
              "    <tr>\n",
              "      <th>32568</th>\n",
              "      <td>1412025</td>\n",
              "      <td>146</td>\n",
              "      <td>61</td>\n",
              "      <td>2104</td>\n",
              "      <td>583.03</td>\n",
              "      <td>581.03</td>\n",
              "      <td>0</td>\n",
              "      <td>0</td>\n",
              "      <td>Fish</td>\n",
              "      <td>Continental</td>\n",
              "      <td>473</td>\n",
              "      <td>77</td>\n",
              "      <td>TYPE_A</td>\n",
              "      <td>4.5</td>\n",
              "    </tr>\n",
              "    <tr>\n",
              "      <th>32569</th>\n",
              "      <td>1287019</td>\n",
              "      <td>147</td>\n",
              "      <td>61</td>\n",
              "      <td>2104</td>\n",
              "      <td>582.03</td>\n",
              "      <td>582.03</td>\n",
              "      <td>0</td>\n",
              "      <td>1</td>\n",
              "      <td>Fish</td>\n",
              "      <td>Continental</td>\n",
              "      <td>473</td>\n",
              "      <td>77</td>\n",
              "      <td>TYPE_A</td>\n",
              "      <td>4.5</td>\n",
              "    </tr>\n",
              "    <tr>\n",
              "      <th>32570</th>\n",
              "      <td>1396176</td>\n",
              "      <td>149</td>\n",
              "      <td>61</td>\n",
              "      <td>2104</td>\n",
              "      <td>629.53</td>\n",
              "      <td>629.53</td>\n",
              "      <td>0</td>\n",
              "      <td>0</td>\n",
              "      <td>Fish</td>\n",
              "      <td>Continental</td>\n",
              "      <td>473</td>\n",
              "      <td>77</td>\n",
              "      <td>TYPE_A</td>\n",
              "      <td>4.5</td>\n",
              "    </tr>\n",
              "    <tr>\n",
              "      <th>32571</th>\n",
              "      <td>1331977</td>\n",
              "      <td>150</td>\n",
              "      <td>61</td>\n",
              "      <td>2104</td>\n",
              "      <td>629.53</td>\n",
              "      <td>629.53</td>\n",
              "      <td>0</td>\n",
              "      <td>0</td>\n",
              "      <td>Fish</td>\n",
              "      <td>Continental</td>\n",
              "      <td>473</td>\n",
              "      <td>77</td>\n",
              "      <td>TYPE_A</td>\n",
              "      <td>4.5</td>\n",
              "    </tr>\n",
              "    <tr>\n",
              "      <th>32572</th>\n",
              "      <td>1017414</td>\n",
              "      <td>152</td>\n",
              "      <td>61</td>\n",
              "      <td>2104</td>\n",
              "      <td>630.53</td>\n",
              "      <td>631.53</td>\n",
              "      <td>0</td>\n",
              "      <td>0</td>\n",
              "      <td>Fish</td>\n",
              "      <td>Continental</td>\n",
              "      <td>473</td>\n",
              "      <td>77</td>\n",
              "      <td>TYPE_A</td>\n",
              "      <td>4.5</td>\n",
              "    </tr>\n",
              "  </tbody>\n",
              "</table>\n",
              "<p>32573 rows × 14 columns</p>\n",
              "</div>"
            ],
            "text/plain": [
              "            id  week  center_id  ...  region_code  center_type  op_area\n",
              "0      1028232   146         55  ...           56       TYPE_C      2.0\n",
              "1      1262649   147         55  ...           56       TYPE_C      2.0\n",
              "2      1453211   149         55  ...           56       TYPE_C      2.0\n",
              "3      1262599   150         55  ...           56       TYPE_C      2.0\n",
              "4      1495848   151         55  ...           56       TYPE_C      2.0\n",
              "...        ...   ...        ...  ...          ...          ...      ...\n",
              "32568  1412025   146         61  ...           77       TYPE_A      4.5\n",
              "32569  1287019   147         61  ...           77       TYPE_A      4.5\n",
              "32570  1396176   149         61  ...           77       TYPE_A      4.5\n",
              "32571  1331977   150         61  ...           77       TYPE_A      4.5\n",
              "32572  1017414   152         61  ...           77       TYPE_A      4.5\n",
              "\n",
              "[32573 rows x 14 columns]"
            ]
          },
          "metadata": {
            "tags": []
          },
          "execution_count": 15
        }
      ]
    },
    {
      "cell_type": "code",
      "metadata": {
        "id": "xOwcl69j0s0B",
        "colab_type": "code",
        "colab": {}
      },
      "source": [
        "test_df['discount'] = (test_df.base_price - test_df.checkout_price)*100/test_df.base_price"
      ],
      "execution_count": null,
      "outputs": []
    },
    {
      "cell_type": "code",
      "metadata": {
        "id": "nYHAnu721CnB",
        "colab_type": "code",
        "colab": {
          "base_uri": "https://localhost:8080/",
          "height": 419
        },
        "outputId": "52962481-baf5-4b17-991f-355296ac8adc"
      },
      "source": [
        "test_df"
      ],
      "execution_count": null,
      "outputs": [
        {
          "output_type": "execute_result",
          "data": {
            "text/html": [
              "<div>\n",
              "<style scoped>\n",
              "    .dataframe tbody tr th:only-of-type {\n",
              "        vertical-align: middle;\n",
              "    }\n",
              "\n",
              "    .dataframe tbody tr th {\n",
              "        vertical-align: top;\n",
              "    }\n",
              "\n",
              "    .dataframe thead th {\n",
              "        text-align: right;\n",
              "    }\n",
              "</style>\n",
              "<table border=\"1\" class=\"dataframe\">\n",
              "  <thead>\n",
              "    <tr style=\"text-align: right;\">\n",
              "      <th></th>\n",
              "      <th>id</th>\n",
              "      <th>week</th>\n",
              "      <th>center_id</th>\n",
              "      <th>meal_id</th>\n",
              "      <th>checkout_price</th>\n",
              "      <th>base_price</th>\n",
              "      <th>emailer_for_promotion</th>\n",
              "      <th>homepage_featured</th>\n",
              "      <th>category</th>\n",
              "      <th>cuisine</th>\n",
              "      <th>city_code</th>\n",
              "      <th>region_code</th>\n",
              "      <th>center_type</th>\n",
              "      <th>op_area</th>\n",
              "      <th>discount</th>\n",
              "    </tr>\n",
              "  </thead>\n",
              "  <tbody>\n",
              "    <tr>\n",
              "      <th>0</th>\n",
              "      <td>1028232</td>\n",
              "      <td>146</td>\n",
              "      <td>55</td>\n",
              "      <td>1885</td>\n",
              "      <td>158.11</td>\n",
              "      <td>159.11</td>\n",
              "      <td>0</td>\n",
              "      <td>0</td>\n",
              "      <td>Beverages</td>\n",
              "      <td>Thai</td>\n",
              "      <td>647</td>\n",
              "      <td>56</td>\n",
              "      <td>TYPE_C</td>\n",
              "      <td>2.0</td>\n",
              "      <td>0.628496</td>\n",
              "    </tr>\n",
              "    <tr>\n",
              "      <th>1</th>\n",
              "      <td>1262649</td>\n",
              "      <td>147</td>\n",
              "      <td>55</td>\n",
              "      <td>1885</td>\n",
              "      <td>159.11</td>\n",
              "      <td>159.11</td>\n",
              "      <td>0</td>\n",
              "      <td>0</td>\n",
              "      <td>Beverages</td>\n",
              "      <td>Thai</td>\n",
              "      <td>647</td>\n",
              "      <td>56</td>\n",
              "      <td>TYPE_C</td>\n",
              "      <td>2.0</td>\n",
              "      <td>0.000000</td>\n",
              "    </tr>\n",
              "    <tr>\n",
              "      <th>2</th>\n",
              "      <td>1453211</td>\n",
              "      <td>149</td>\n",
              "      <td>55</td>\n",
              "      <td>1885</td>\n",
              "      <td>157.14</td>\n",
              "      <td>158.14</td>\n",
              "      <td>0</td>\n",
              "      <td>0</td>\n",
              "      <td>Beverages</td>\n",
              "      <td>Thai</td>\n",
              "      <td>647</td>\n",
              "      <td>56</td>\n",
              "      <td>TYPE_C</td>\n",
              "      <td>2.0</td>\n",
              "      <td>0.632351</td>\n",
              "    </tr>\n",
              "    <tr>\n",
              "      <th>3</th>\n",
              "      <td>1262599</td>\n",
              "      <td>150</td>\n",
              "      <td>55</td>\n",
              "      <td>1885</td>\n",
              "      <td>159.14</td>\n",
              "      <td>157.14</td>\n",
              "      <td>0</td>\n",
              "      <td>0</td>\n",
              "      <td>Beverages</td>\n",
              "      <td>Thai</td>\n",
              "      <td>647</td>\n",
              "      <td>56</td>\n",
              "      <td>TYPE_C</td>\n",
              "      <td>2.0</td>\n",
              "      <td>-1.272750</td>\n",
              "    </tr>\n",
              "    <tr>\n",
              "      <th>4</th>\n",
              "      <td>1495848</td>\n",
              "      <td>151</td>\n",
              "      <td>55</td>\n",
              "      <td>1885</td>\n",
              "      <td>160.11</td>\n",
              "      <td>159.11</td>\n",
              "      <td>0</td>\n",
              "      <td>0</td>\n",
              "      <td>Beverages</td>\n",
              "      <td>Thai</td>\n",
              "      <td>647</td>\n",
              "      <td>56</td>\n",
              "      <td>TYPE_C</td>\n",
              "      <td>2.0</td>\n",
              "      <td>-0.628496</td>\n",
              "    </tr>\n",
              "    <tr>\n",
              "      <th>...</th>\n",
              "      <td>...</td>\n",
              "      <td>...</td>\n",
              "      <td>...</td>\n",
              "      <td>...</td>\n",
              "      <td>...</td>\n",
              "      <td>...</td>\n",
              "      <td>...</td>\n",
              "      <td>...</td>\n",
              "      <td>...</td>\n",
              "      <td>...</td>\n",
              "      <td>...</td>\n",
              "      <td>...</td>\n",
              "      <td>...</td>\n",
              "      <td>...</td>\n",
              "      <td>...</td>\n",
              "    </tr>\n",
              "    <tr>\n",
              "      <th>32568</th>\n",
              "      <td>1412025</td>\n",
              "      <td>146</td>\n",
              "      <td>61</td>\n",
              "      <td>2104</td>\n",
              "      <td>583.03</td>\n",
              "      <td>581.03</td>\n",
              "      <td>0</td>\n",
              "      <td>0</td>\n",
              "      <td>Fish</td>\n",
              "      <td>Continental</td>\n",
              "      <td>473</td>\n",
              "      <td>77</td>\n",
              "      <td>TYPE_A</td>\n",
              "      <td>4.5</td>\n",
              "      <td>-0.344216</td>\n",
              "    </tr>\n",
              "    <tr>\n",
              "      <th>32569</th>\n",
              "      <td>1287019</td>\n",
              "      <td>147</td>\n",
              "      <td>61</td>\n",
              "      <td>2104</td>\n",
              "      <td>582.03</td>\n",
              "      <td>582.03</td>\n",
              "      <td>0</td>\n",
              "      <td>1</td>\n",
              "      <td>Fish</td>\n",
              "      <td>Continental</td>\n",
              "      <td>473</td>\n",
              "      <td>77</td>\n",
              "      <td>TYPE_A</td>\n",
              "      <td>4.5</td>\n",
              "      <td>0.000000</td>\n",
              "    </tr>\n",
              "    <tr>\n",
              "      <th>32570</th>\n",
              "      <td>1396176</td>\n",
              "      <td>149</td>\n",
              "      <td>61</td>\n",
              "      <td>2104</td>\n",
              "      <td>629.53</td>\n",
              "      <td>629.53</td>\n",
              "      <td>0</td>\n",
              "      <td>0</td>\n",
              "      <td>Fish</td>\n",
              "      <td>Continental</td>\n",
              "      <td>473</td>\n",
              "      <td>77</td>\n",
              "      <td>TYPE_A</td>\n",
              "      <td>4.5</td>\n",
              "      <td>0.000000</td>\n",
              "    </tr>\n",
              "    <tr>\n",
              "      <th>32571</th>\n",
              "      <td>1331977</td>\n",
              "      <td>150</td>\n",
              "      <td>61</td>\n",
              "      <td>2104</td>\n",
              "      <td>629.53</td>\n",
              "      <td>629.53</td>\n",
              "      <td>0</td>\n",
              "      <td>0</td>\n",
              "      <td>Fish</td>\n",
              "      <td>Continental</td>\n",
              "      <td>473</td>\n",
              "      <td>77</td>\n",
              "      <td>TYPE_A</td>\n",
              "      <td>4.5</td>\n",
              "      <td>0.000000</td>\n",
              "    </tr>\n",
              "    <tr>\n",
              "      <th>32572</th>\n",
              "      <td>1017414</td>\n",
              "      <td>152</td>\n",
              "      <td>61</td>\n",
              "      <td>2104</td>\n",
              "      <td>630.53</td>\n",
              "      <td>631.53</td>\n",
              "      <td>0</td>\n",
              "      <td>0</td>\n",
              "      <td>Fish</td>\n",
              "      <td>Continental</td>\n",
              "      <td>473</td>\n",
              "      <td>77</td>\n",
              "      <td>TYPE_A</td>\n",
              "      <td>4.5</td>\n",
              "      <td>0.158346</td>\n",
              "    </tr>\n",
              "  </tbody>\n",
              "</table>\n",
              "<p>32573 rows × 15 columns</p>\n",
              "</div>"
            ],
            "text/plain": [
              "            id  week  center_id  ...  center_type  op_area  discount\n",
              "0      1028232   146         55  ...       TYPE_C      2.0  0.628496\n",
              "1      1262649   147         55  ...       TYPE_C      2.0  0.000000\n",
              "2      1453211   149         55  ...       TYPE_C      2.0  0.632351\n",
              "3      1262599   150         55  ...       TYPE_C      2.0 -1.272750\n",
              "4      1495848   151         55  ...       TYPE_C      2.0 -0.628496\n",
              "...        ...   ...        ...  ...          ...      ...       ...\n",
              "32568  1412025   146         61  ...       TYPE_A      4.5 -0.344216\n",
              "32569  1287019   147         61  ...       TYPE_A      4.5  0.000000\n",
              "32570  1396176   149         61  ...       TYPE_A      4.5  0.000000\n",
              "32571  1331977   150         61  ...       TYPE_A      4.5  0.000000\n",
              "32572  1017414   152         61  ...       TYPE_A      4.5  0.158346\n",
              "\n",
              "[32573 rows x 15 columns]"
            ]
          },
          "metadata": {
            "tags": []
          },
          "execution_count": 17
        }
      ]
    },
    {
      "cell_type": "code",
      "metadata": {
        "id": "x0kdbW5BJT87",
        "colab_type": "code",
        "colab": {}
      },
      "source": [
        "apply_cats(test_df, mapping)"
      ],
      "execution_count": null,
      "outputs": []
    },
    {
      "cell_type": "code",
      "metadata": {
        "id": "PnHI2M92gVSH",
        "colab_type": "code",
        "colab": {}
      },
      "source": [
        "pickle.dump(mapping,open(f\"{root}mapping\", \"wb\"))"
      ],
      "execution_count": null,
      "outputs": []
    },
    {
      "cell_type": "code",
      "metadata": {
        "id": "dYOf8IYEKCNf",
        "colab_type": "code",
        "colab": {}
      },
      "source": [
        "df_trn.loc[:,\"discount\"]=(df_trn.base_price-df_trn.checkout_price)*100/df_trn.base_price"
      ],
      "execution_count": null,
      "outputs": []
    },
    {
      "cell_type": "markdown",
      "metadata": {
        "id": "CqQUKEhPgi3g",
        "colab_type": "text"
      },
      "source": [
        "The categories are then label encoded to perform different operations on the data."
      ]
    },
    {
      "cell_type": "code",
      "metadata": {
        "id": "PPZN5jrhURSx",
        "colab_type": "code",
        "colab": {}
      },
      "source": [
        "#df_trn(columns=['category','cuisine','center_type'],inplace=True)\n"
      ],
      "execution_count": null,
      "outputs": []
    },
    {
      "cell_type": "code",
      "metadata": {
        "id": "tKgyC7ld8dZ3",
        "colab_type": "code",
        "colab": {
          "base_uri": "https://localhost:8080/",
          "height": 419
        },
        "outputId": "fd004e28-54cc-41ee-eaf8-a973115bea5c"
      },
      "source": [
        "df_raw"
      ],
      "execution_count": null,
      "outputs": [
        {
          "output_type": "execute_result",
          "data": {
            "text/html": [
              "<div>\n",
              "<style scoped>\n",
              "    .dataframe tbody tr th:only-of-type {\n",
              "        vertical-align: middle;\n",
              "    }\n",
              "\n",
              "    .dataframe tbody tr th {\n",
              "        vertical-align: top;\n",
              "    }\n",
              "\n",
              "    .dataframe thead th {\n",
              "        text-align: right;\n",
              "    }\n",
              "</style>\n",
              "<table border=\"1\" class=\"dataframe\">\n",
              "  <thead>\n",
              "    <tr style=\"text-align: right;\">\n",
              "      <th></th>\n",
              "      <th>id</th>\n",
              "      <th>week</th>\n",
              "      <th>center_id</th>\n",
              "      <th>meal_id</th>\n",
              "      <th>checkout_price</th>\n",
              "      <th>base_price</th>\n",
              "      <th>emailer_for_promotion</th>\n",
              "      <th>homepage_featured</th>\n",
              "      <th>num_orders</th>\n",
              "      <th>category</th>\n",
              "      <th>cuisine</th>\n",
              "      <th>city_code</th>\n",
              "      <th>region_code</th>\n",
              "      <th>center_type</th>\n",
              "      <th>op_area</th>\n",
              "    </tr>\n",
              "  </thead>\n",
              "  <tbody>\n",
              "    <tr>\n",
              "      <th>0</th>\n",
              "      <td>1379560</td>\n",
              "      <td>1</td>\n",
              "      <td>55</td>\n",
              "      <td>1885</td>\n",
              "      <td>136.83</td>\n",
              "      <td>152.29</td>\n",
              "      <td>0</td>\n",
              "      <td>0</td>\n",
              "      <td>177</td>\n",
              "      <td>Beverages</td>\n",
              "      <td>Thai</td>\n",
              "      <td>647</td>\n",
              "      <td>56</td>\n",
              "      <td>TYPE_C</td>\n",
              "      <td>2.0</td>\n",
              "    </tr>\n",
              "    <tr>\n",
              "      <th>1</th>\n",
              "      <td>1018704</td>\n",
              "      <td>2</td>\n",
              "      <td>55</td>\n",
              "      <td>1885</td>\n",
              "      <td>135.83</td>\n",
              "      <td>152.29</td>\n",
              "      <td>0</td>\n",
              "      <td>0</td>\n",
              "      <td>323</td>\n",
              "      <td>Beverages</td>\n",
              "      <td>Thai</td>\n",
              "      <td>647</td>\n",
              "      <td>56</td>\n",
              "      <td>TYPE_C</td>\n",
              "      <td>2.0</td>\n",
              "    </tr>\n",
              "    <tr>\n",
              "      <th>2</th>\n",
              "      <td>1196273</td>\n",
              "      <td>3</td>\n",
              "      <td>55</td>\n",
              "      <td>1885</td>\n",
              "      <td>132.92</td>\n",
              "      <td>133.92</td>\n",
              "      <td>0</td>\n",
              "      <td>0</td>\n",
              "      <td>96</td>\n",
              "      <td>Beverages</td>\n",
              "      <td>Thai</td>\n",
              "      <td>647</td>\n",
              "      <td>56</td>\n",
              "      <td>TYPE_C</td>\n",
              "      <td>2.0</td>\n",
              "    </tr>\n",
              "    <tr>\n",
              "      <th>3</th>\n",
              "      <td>1116527</td>\n",
              "      <td>4</td>\n",
              "      <td>55</td>\n",
              "      <td>1885</td>\n",
              "      <td>135.86</td>\n",
              "      <td>134.86</td>\n",
              "      <td>0</td>\n",
              "      <td>0</td>\n",
              "      <td>163</td>\n",
              "      <td>Beverages</td>\n",
              "      <td>Thai</td>\n",
              "      <td>647</td>\n",
              "      <td>56</td>\n",
              "      <td>TYPE_C</td>\n",
              "      <td>2.0</td>\n",
              "    </tr>\n",
              "    <tr>\n",
              "      <th>4</th>\n",
              "      <td>1343872</td>\n",
              "      <td>5</td>\n",
              "      <td>55</td>\n",
              "      <td>1885</td>\n",
              "      <td>146.50</td>\n",
              "      <td>147.50</td>\n",
              "      <td>0</td>\n",
              "      <td>0</td>\n",
              "      <td>215</td>\n",
              "      <td>Beverages</td>\n",
              "      <td>Thai</td>\n",
              "      <td>647</td>\n",
              "      <td>56</td>\n",
              "      <td>TYPE_C</td>\n",
              "      <td>2.0</td>\n",
              "    </tr>\n",
              "    <tr>\n",
              "      <th>...</th>\n",
              "      <td>...</td>\n",
              "      <td>...</td>\n",
              "      <td>...</td>\n",
              "      <td>...</td>\n",
              "      <td>...</td>\n",
              "      <td>...</td>\n",
              "      <td>...</td>\n",
              "      <td>...</td>\n",
              "      <td>...</td>\n",
              "      <td>...</td>\n",
              "      <td>...</td>\n",
              "      <td>...</td>\n",
              "      <td>...</td>\n",
              "      <td>...</td>\n",
              "      <td>...</td>\n",
              "    </tr>\n",
              "    <tr>\n",
              "      <th>456543</th>\n",
              "      <td>1437396</td>\n",
              "      <td>141</td>\n",
              "      <td>61</td>\n",
              "      <td>2104</td>\n",
              "      <td>583.03</td>\n",
              "      <td>630.53</td>\n",
              "      <td>0</td>\n",
              "      <td>1</td>\n",
              "      <td>13</td>\n",
              "      <td>Fish</td>\n",
              "      <td>Continental</td>\n",
              "      <td>473</td>\n",
              "      <td>77</td>\n",
              "      <td>TYPE_A</td>\n",
              "      <td>4.5</td>\n",
              "    </tr>\n",
              "    <tr>\n",
              "      <th>456544</th>\n",
              "      <td>1060716</td>\n",
              "      <td>142</td>\n",
              "      <td>61</td>\n",
              "      <td>2104</td>\n",
              "      <td>581.03</td>\n",
              "      <td>582.03</td>\n",
              "      <td>0</td>\n",
              "      <td>0</td>\n",
              "      <td>42</td>\n",
              "      <td>Fish</td>\n",
              "      <td>Continental</td>\n",
              "      <td>473</td>\n",
              "      <td>77</td>\n",
              "      <td>TYPE_A</td>\n",
              "      <td>4.5</td>\n",
              "    </tr>\n",
              "    <tr>\n",
              "      <th>456545</th>\n",
              "      <td>1029231</td>\n",
              "      <td>143</td>\n",
              "      <td>61</td>\n",
              "      <td>2104</td>\n",
              "      <td>583.03</td>\n",
              "      <td>581.03</td>\n",
              "      <td>0</td>\n",
              "      <td>0</td>\n",
              "      <td>40</td>\n",
              "      <td>Fish</td>\n",
              "      <td>Continental</td>\n",
              "      <td>473</td>\n",
              "      <td>77</td>\n",
              "      <td>TYPE_A</td>\n",
              "      <td>4.5</td>\n",
              "    </tr>\n",
              "    <tr>\n",
              "      <th>456546</th>\n",
              "      <td>1141147</td>\n",
              "      <td>144</td>\n",
              "      <td>61</td>\n",
              "      <td>2104</td>\n",
              "      <td>582.03</td>\n",
              "      <td>581.03</td>\n",
              "      <td>0</td>\n",
              "      <td>0</td>\n",
              "      <td>53</td>\n",
              "      <td>Fish</td>\n",
              "      <td>Continental</td>\n",
              "      <td>473</td>\n",
              "      <td>77</td>\n",
              "      <td>TYPE_A</td>\n",
              "      <td>4.5</td>\n",
              "    </tr>\n",
              "    <tr>\n",
              "      <th>456547</th>\n",
              "      <td>1443704</td>\n",
              "      <td>145</td>\n",
              "      <td>61</td>\n",
              "      <td>2104</td>\n",
              "      <td>581.03</td>\n",
              "      <td>582.03</td>\n",
              "      <td>0</td>\n",
              "      <td>0</td>\n",
              "      <td>27</td>\n",
              "      <td>Fish</td>\n",
              "      <td>Continental</td>\n",
              "      <td>473</td>\n",
              "      <td>77</td>\n",
              "      <td>TYPE_A</td>\n",
              "      <td>4.5</td>\n",
              "    </tr>\n",
              "  </tbody>\n",
              "</table>\n",
              "<p>456548 rows × 15 columns</p>\n",
              "</div>"
            ],
            "text/plain": [
              "             id  week  center_id  ...  region_code  center_type  op_area\n",
              "0       1379560     1         55  ...           56       TYPE_C      2.0\n",
              "1       1018704     2         55  ...           56       TYPE_C      2.0\n",
              "2       1196273     3         55  ...           56       TYPE_C      2.0\n",
              "3       1116527     4         55  ...           56       TYPE_C      2.0\n",
              "4       1343872     5         55  ...           56       TYPE_C      2.0\n",
              "...         ...   ...        ...  ...          ...          ...      ...\n",
              "456543  1437396   141         61  ...           77       TYPE_A      4.5\n",
              "456544  1060716   142         61  ...           77       TYPE_A      4.5\n",
              "456545  1029231   143         61  ...           77       TYPE_A      4.5\n",
              "456546  1141147   144         61  ...           77       TYPE_A      4.5\n",
              "456547  1443704   145         61  ...           77       TYPE_A      4.5\n",
              "\n",
              "[456548 rows x 15 columns]"
            ]
          },
          "metadata": {
            "tags": []
          },
          "execution_count": 21
        }
      ]
    },
    {
      "cell_type": "code",
      "metadata": {
        "id": "1XdSZswlqPd4",
        "colab_type": "code",
        "colab": {}
      },
      "source": [
        "from sklearn.model_selection import train_test_split\n",
        "from sklearn.ensemble import RandomForestRegressor"
      ],
      "execution_count": null,
      "outputs": []
    },
    {
      "cell_type": "code",
      "metadata": {
        "id": "27sJsdLnBTDv",
        "colab_type": "code",
        "colab": {}
      },
      "source": [
        "X_train, X_test, y_train, y_test = train_test_split(df_trn.drop(['num_orders','id','week','base_price'],axis=1), df_trn.num_orders, test_size=0.2,random_state=42)"
      ],
      "execution_count": null,
      "outputs": []
    },
    {
      "cell_type": "markdown",
      "metadata": {
        "id": "WumIioyAg8uW",
        "colab_type": "text"
      },
      "source": [
        "The dataset is then split into train and test data with a specific weightage. This helps in improving the accuracy of the model on the real test dataset because we are able to derive inferences about the model from the mock test dataset which helps in twitching the model for better performance."
      ]
    },
    {
      "cell_type": "code",
      "metadata": {
        "id": "GB7Jf3c_vIdf",
        "colab_type": "code",
        "colab": {}
      },
      "source": [
        "from sklearn.ensemble import BaggingRegressor\n",
        "from sklearn.linear_model import LinearRegression\n",
        "from sklearn import svm"
      ],
      "execution_count": null,
      "outputs": []
    },
    {
      "cell_type": "code",
      "metadata": {
        "id": "QU_7BggclF1-",
        "colab_type": "code",
        "colab": {
          "base_uri": "https://localhost:8080/",
          "height": 85
        },
        "outputId": "48ca82e3-9f91-4014-8a14-e998f1f837a3"
      },
      "source": [
        "X_train.columns"
      ],
      "execution_count": null,
      "outputs": [
        {
          "output_type": "execute_result",
          "data": {
            "text/plain": [
              "Index(['center_id', 'meal_id', 'checkout_price', 'emailer_for_promotion',\n",
              "       'homepage_featured', 'category', 'cuisine', 'city_code', 'region_code',\n",
              "       'center_type', 'op_area', 'discount'],\n",
              "      dtype='object')"
            ]
          },
          "metadata": {
            "tags": []
          },
          "execution_count": 25
        }
      ]
    },
    {
      "cell_type": "code",
      "metadata": {
        "id": "sMGOCnegAZg5",
        "colab_type": "code",
        "colab": {}
      },
      "source": [
        "#model1=BaggingRegressor(LinearRegression(),n_estimators=100,max_samples=0.5,max_features=0.5)"
      ],
      "execution_count": null,
      "outputs": []
    },
    {
      "cell_type": "code",
      "metadata": {
        "id": "GSMNKMCFAolL",
        "colab_type": "code",
        "colab": {}
      },
      "source": [
        "#model1.fit(X_train,y_train)"
      ],
      "execution_count": null,
      "outputs": []
    },
    {
      "cell_type": "code",
      "metadata": {
        "id": "E-4I3TxRA_aE",
        "colab_type": "code",
        "colab": {}
      },
      "source": [
        "#model1.score(X_train,y_train)"
      ],
      "execution_count": null,
      "outputs": []
    },
    {
      "cell_type": "code",
      "metadata": {
        "id": "KAw8jCXh2Bsa",
        "colab_type": "code",
        "colab": {}
      },
      "source": [
        "#df_trn=pd.concat([df_trn,df_raw[\"checkout_price\"]],axis=1)"
      ],
      "execution_count": null,
      "outputs": []
    },
    {
      "cell_type": "code",
      "metadata": {
        "id": "flKflonpYCMz",
        "colab_type": "code",
        "colab": {}
      },
      "source": [
        "val_score=[]\n",
        "test_score=[]"
      ],
      "execution_count": null,
      "outputs": []
    },
    {
      "cell_type": "code",
      "metadata": {
        "id": "bDNBx2kTBshc",
        "colab_type": "code",
        "colab": {}
      },
      "source": [
        "from xgboost import XGBRegressor, DMatrix"
      ],
      "execution_count": null,
      "outputs": []
    },
    {
      "cell_type": "code",
      "metadata": {
        "id": "pMQ_-M5iKtz0",
        "colab_type": "code",
        "colab": {}
      },
      "source": [
        "model=XGBRegressor(max_depth=20,n_estimators=100, n_jobs=-1,)"
      ],
      "execution_count": null,
      "outputs": []
    },
    {
      "cell_type": "code",
      "metadata": {
        "id": "jD_I0ulNrDsI",
        "colab_type": "code",
        "colab": {
          "base_uri": "https://localhost:8080/",
          "height": 153
        },
        "outputId": "54106844-b94e-40bc-abaf-4f18023c4c82"
      },
      "source": [
        "model.fit(X_train, y_train)"
      ],
      "execution_count": null,
      "outputs": [
        {
          "output_type": "stream",
          "text": [
            "[12:42:56] WARNING: /workspace/src/objective/regression_obj.cu:152: reg:linear is now deprecated in favor of reg:squarederror.\n"
          ],
          "name": "stdout"
        },
        {
          "output_type": "execute_result",
          "data": {
            "text/plain": [
              "XGBRegressor(base_score=0.5, booster='gbtree', colsample_bylevel=1,\n",
              "             colsample_bynode=1, colsample_bytree=1, gamma=0,\n",
              "             importance_type='gain', learning_rate=0.1, max_delta_step=0,\n",
              "             max_depth=20, min_child_weight=1, missing=None, n_estimators=100,\n",
              "             n_jobs=-1, nthread=None, objective='reg:linear', random_state=0,\n",
              "             reg_alpha=0, reg_lambda=1, scale_pos_weight=1, seed=None,\n",
              "             silent=None, subsample=1, verbosity=1)"
            ]
          },
          "metadata": {
            "tags": []
          },
          "execution_count": 33
        }
      ]
    },
    {
      "cell_type": "code",
      "metadata": {
        "id": "S3pM5Og_kdgf",
        "colab_type": "code",
        "colab": {
          "base_uri": "https://localhost:8080/",
          "height": 34
        },
        "outputId": "dde3db78-f5fd-4201-f0bf-36389d662687"
      },
      "source": [
        "model.score(X_train,y_train)"
      ],
      "execution_count": null,
      "outputs": [
        {
          "output_type": "execute_result",
          "data": {
            "text/plain": [
              "0.9792475499717707"
            ]
          },
          "metadata": {
            "tags": []
          },
          "execution_count": 34
        }
      ]
    },
    {
      "cell_type": "code",
      "metadata": {
        "id": "T9GllYZUkg_e",
        "colab_type": "code",
        "colab": {
          "base_uri": "https://localhost:8080/",
          "height": 34
        },
        "outputId": "33acbd8c-db31-42ff-c695-f22620c66a5c"
      },
      "source": [
        "model.score(X_test,y_test)"
      ],
      "execution_count": null,
      "outputs": [
        {
          "output_type": "execute_result",
          "data": {
            "text/plain": [
              "0.8180018880856174"
            ]
          },
          "metadata": {
            "tags": []
          },
          "execution_count": 35
        }
      ]
    },
    {
      "cell_type": "code",
      "metadata": {
        "id": "MrRapiP13mIe",
        "colab_type": "code",
        "colab": {
          "base_uri": "https://localhost:8080/",
          "height": 34
        },
        "outputId": "ec815627-d886-4cea-addd-9d7f3145289d"
      },
      "source": [
        "test_df.category.dtype"
      ],
      "execution_count": null,
      "outputs": [
        {
          "output_type": "execute_result",
          "data": {
            "text/plain": [
              "dtype('int16')"
            ]
          },
          "metadata": {
            "tags": []
          },
          "execution_count": 36
        }
      ]
    },
    {
      "cell_type": "code",
      "metadata": {
        "id": "dJjTtdeR8BKj",
        "colab_type": "code",
        "colab": {
          "base_uri": "https://localhost:8080/",
          "height": 85
        },
        "outputId": "864f2ea3-ac5c-487e-a6a6-7394606a0e3c"
      },
      "source": [
        "X_train.columns"
      ],
      "execution_count": null,
      "outputs": [
        {
          "output_type": "execute_result",
          "data": {
            "text/plain": [
              "Index(['center_id', 'meal_id', 'checkout_price', 'emailer_for_promotion',\n",
              "       'homepage_featured', 'category', 'cuisine', 'city_code', 'region_code',\n",
              "       'center_type', 'op_area', 'discount'],\n",
              "      dtype='object')"
            ]
          },
          "metadata": {
            "tags": []
          },
          "execution_count": 37
        }
      ]
    },
    {
      "cell_type": "code",
      "metadata": {
        "id": "kjG_Mb6j99MQ",
        "colab_type": "code",
        "colab": {}
      },
      "source": [
        ""
      ],
      "execution_count": null,
      "outputs": []
    },
    {
      "cell_type": "code",
      "metadata": {
        "id": "JfRliZ2p3frJ",
        "colab_type": "code",
        "colab": {
          "base_uri": "https://localhost:8080/",
          "height": 51
        },
        "outputId": "67a37e47-5b66-472e-a1e6-abb4e39b4602"
      },
      "source": [
        "model.predict(test_df.drop(columns=['id','week','base_price']))"
      ],
      "execution_count": null,
      "outputs": [
        {
          "output_type": "execute_result",
          "data": {
            "text/plain": [
              "array([148.38667 , 170.39786 , 137.33165 , ...,  18.411667,  18.411667,\n",
              "        27.050468], dtype=float32)"
            ]
          },
          "metadata": {
            "tags": []
          },
          "execution_count": 38
        }
      ]
    },
    {
      "cell_type": "code",
      "metadata": {
        "id": "gljlrqvSnCJl",
        "colab_type": "code",
        "colab": {}
      },
      "source": [
        "#import pickle"
      ],
      "execution_count": null,
      "outputs": []
    },
    {
      "cell_type": "code",
      "metadata": {
        "id": "Tw0YQIRA-hgt",
        "colab_type": "code",
        "colab": {
          "base_uri": "https://localhost:8080/",
          "height": 34
        },
        "outputId": "28b65b13-8d9b-4c5c-da2c-da28019a9867"
      },
      "source": [
        "model.base_score"
      ],
      "execution_count": null,
      "outputs": [
        {
          "output_type": "execute_result",
          "data": {
            "text/plain": [
              "0.5"
            ]
          },
          "metadata": {
            "tags": []
          },
          "execution_count": 40
        }
      ]
    },
    {
      "cell_type": "code",
      "metadata": {
        "id": "PvuWmdRtAwqp",
        "colab_type": "code",
        "colab": {}
      },
      "source": [
        "test_df.to_csv(f\"{root}nayat.csv\",index=False)"
      ],
      "execution_count": null,
      "outputs": []
    },
    {
      "cell_type": "code",
      "metadata": {
        "id": "JcUS7q2UnFv4",
        "colab_type": "code",
        "colab": {}
      },
      "source": [
        "#pickle.dump(model,f\"{root}model.pickle\")"
      ],
      "execution_count": null,
      "outputs": []
    },
    {
      "cell_type": "code",
      "metadata": {
        "id": "P3jNEfYYnGyX",
        "colab_type": "code",
        "colab": {
          "base_uri": "https://localhost:8080/",
          "height": 130
        },
        "outputId": "a6a57556-616e-4d07-ddc5-01974d8a2fed"
      },
      "source": [
        "#with open(f\"{root}model.pickle\", 'wb') as pickle_file:\n",
        "    pickle.dump(model, pickle_file)"
      ],
      "execution_count": null,
      "outputs": [
        {
          "output_type": "error",
          "ename": "IndentationError",
          "evalue": "ignored",
          "traceback": [
            "\u001b[0;36m  File \u001b[0;32m\"<ipython-input-43-ffae4d855f37>\"\u001b[0;36m, line \u001b[0;32m2\u001b[0m\n\u001b[0;31m    pickle.dump(model, pickle_file)\u001b[0m\n\u001b[0m    ^\u001b[0m\n\u001b[0;31mIndentationError\u001b[0m\u001b[0;31m:\u001b[0m unexpected indent\n"
          ]
        }
      ]
    },
    {
      "cell_type": "code",
      "metadata": {
        "id": "U5nT9QTmnG65",
        "colab_type": "code",
        "colab": {}
      },
      "source": [
        "model.save_model(f\"{root}model\")"
      ],
      "execution_count": null,
      "outputs": []
    },
    {
      "cell_type": "code",
      "metadata": {
        "id": "l50fzBt6nG3Q",
        "colab_type": "code",
        "colab": {}
      },
      "source": [
        ""
      ],
      "execution_count": null,
      "outputs": []
    },
    {
      "cell_type": "code",
      "metadata": {
        "id": "XwvvY62_m6U2",
        "colab_type": "code",
        "colab": {}
      },
      "source": [
        "from sklearn.metrics import mean_absolute_error"
      ],
      "execution_count": null,
      "outputs": []
    },
    {
      "cell_type": "code",
      "metadata": {
        "id": "1NMOVSW_bgkY",
        "colab_type": "code",
        "colab": {}
      },
      "source": [
        "(mean_absolute_error(model.predict(X_train),y_train))"
      ],
      "execution_count": null,
      "outputs": []
    },
    {
      "cell_type": "code",
      "metadata": {
        "id": "bFxYT-JNwvhr",
        "colab_type": "code",
        "colab": {}
      },
      "source": [
        "(mean_absolute_error(model.predict(X_test),y_test))"
      ],
      "execution_count": null,
      "outputs": []
    },
    {
      "cell_type": "code",
      "metadata": {
        "id": "r6dvj66jbt-y",
        "colab_type": "code",
        "colab": {}
      },
      "source": [
        "diff=(np.subtract(model.predict(X_test),y_test))"
      ],
      "execution_count": null,
      "outputs": []
    },
    {
      "cell_type": "code",
      "metadata": {
        "id": "RnawkhHzVonE",
        "colab_type": "code",
        "colab": {}
      },
      "source": [
        "import matplotlib.pyplot as plt"
      ],
      "execution_count": null,
      "outputs": []
    },
    {
      "cell_type": "code",
      "metadata": {
        "id": "bpP5fHL1qwDh",
        "colab_type": "code",
        "colab": {}
      },
      "source": [
        "import seaborn as sns"
      ],
      "execution_count": null,
      "outputs": []
    },
    {
      "cell_type": "code",
      "metadata": {
        "id": "b6hoxDB6Tgab",
        "colab_type": "code",
        "colab": {}
      },
      "source": [
        "plt.figure(figsize=(20,20))\n",
        "sns.distplot(diff,)"
      ],
      "execution_count": null,
      "outputs": []
    },
    {
      "cell_type": "code",
      "metadata": {
        "id": "QeQyxaBLuRRW",
        "colab_type": "code",
        "colab": {}
      },
      "source": [
        "plt.figure(figsize=(10,10))\n",
        "sns.heatmap(pd.concat([X_test,pd.DataFrame(model.predict(X_test))],axis=1).corr(),cmap=\"BrBG\",annot=True)"
      ],
      "execution_count": null,
      "outputs": []
    },
    {
      "cell_type": "code",
      "metadata": {
        "id": "LPCfM7yMJXS2",
        "colab_type": "code",
        "colab": {}
      },
      "source": [
        "import matplotlib.pyplot as plt\n",
        "import xgboost"
      ],
      "execution_count": null,
      "outputs": []
    },
    {
      "cell_type": "code",
      "metadata": {
        "id": "QBYjsGk_8PeM",
        "colab_type": "code",
        "colab": {}
      },
      "source": [
        "plt.figure(figsize=(10,10))\n",
        "sns.heatmap(df_trn.corr(),annot=True,cmap=\"BrBG\")"
      ],
      "execution_count": null,
      "outputs": []
    },
    {
      "cell_type": "code",
      "metadata": {
        "id": "LH5c5SA1KALk",
        "colab_type": "code",
        "colab": {}
      },
      "source": [
        "plt.figure(figsize=(30,30))\n",
        "xgboost.plot_importance(model,importance_type=\"weight\")"
      ],
      "execution_count": null,
      "outputs": []
    },
    {
      "cell_type": "code",
      "metadata": {
        "id": "5aQkc_78ISjm",
        "colab_type": "code",
        "colab": {}
      },
      "source": [
        "plt.figure(figsize=(30,10))\n",
        "plt.bar(*zip(*feat_imps.items()))"
      ],
      "execution_count": null,
      "outputs": []
    },
    {
      "cell_type": "code",
      "metadata": {
        "id": "qFIsu2CKwFHX",
        "colab_type": "code",
        "colab": {}
      },
      "source": [
        "from sklearn.metrics import roc_auc_score"
      ],
      "execution_count": null,
      "outputs": []
    },
    {
      "cell_type": "code",
      "metadata": {
        "id": "WXPY6kg5vJsX",
        "colab_type": "code",
        "colab": {}
      },
      "source": [
        "def best_ntree_score(estimator, X, y):\n",
        "    \"\"\"\n",
        "    This scorer uses the best_ntree_limit to return\n",
        "    the best AUC ROC score\n",
        "    \"\"\"\n",
        "    try:\n",
        "        y_predict = estimator.predict(X,ntree_limit=estimator.best_ntree_limit)\n",
        "    except AttributeError:\n",
        "        y_predict = estimator.predict(X)\n",
        "    return roc_auc_score(y, y_predict[:, 1])"
      ],
      "execution_count": null,
      "outputs": []
    },
    {
      "cell_type": "code",
      "metadata": {
        "id": "4HSOQL3Gvit8",
        "colab_type": "code",
        "colab": {}
      },
      "source": [
        ""
      ],
      "execution_count": null,
      "outputs": []
    },
    {
      "cell_type": "code",
      "metadata": {
        "id": "CGw1swuBr2Bu",
        "colab_type": "code",
        "colab": {}
      },
      "source": [
        "yhat = model.predict(X_test)"
      ],
      "execution_count": null,
      "outputs": []
    },
    {
      "cell_type": "code",
      "metadata": {
        "id": "gKIFfFxVr8_E",
        "colab_type": "code",
        "colab": {}
      },
      "source": [
        "yhat = pd.DataFrame(yhat)\n",
        "yhat.shape"
      ],
      "execution_count": null,
      "outputs": []
    },
    {
      "cell_type": "code",
      "metadata": {
        "id": "U2u0_4CJZhpU",
        "colab_type": "code",
        "colab": {}
      },
      "source": [
        "X_test.reset_index(inplace=True)\n",
        "X_test.rename(columns={\"index\":\"row_id\"},inplace=True)\n",
        "X_test\n"
      ],
      "execution_count": null,
      "outputs": []
    },
    {
      "cell_type": "code",
      "metadata": {
        "id": "oopkzvujdSSJ",
        "colab_type": "code",
        "colab": {}
      },
      "source": [
        "X_test.shape"
      ],
      "execution_count": null,
      "outputs": []
    },
    {
      "cell_type": "code",
      "metadata": {
        "id": "TYnyB_d3dWy8",
        "colab_type": "code",
        "colab": {}
      },
      "source": [
        "yhat.shape"
      ],
      "execution_count": null,
      "outputs": []
    },
    {
      "cell_type": "code",
      "metadata": {
        "id": "of330ebaZ3Hd",
        "colab_type": "code",
        "colab": {}
      },
      "source": [
        "\n",
        "prediction = pd.concat([X_test,yhat], axis=1, ignore_index=False)\n",
        "prediction.rename(columns={'0':'pred'},inplace=True)\n"
      ],
      "execution_count": null,
      "outputs": []
    },
    {
      "cell_type": "code",
      "metadata": {
        "id": "nIP3Wyh4k4zu",
        "colab_type": "code",
        "colab": {}
      },
      "source": [
        "prediction.rename(columns={'Unnamed: 0' : 'prediction'},inplace =True)"
      ],
      "execution_count": null,
      "outputs": []
    },
    {
      "cell_type": "code",
      "metadata": {
        "id": "0z-o2dbIm9_l",
        "colab_type": "code",
        "colab": {}
      },
      "source": [
        "prediction[prediction.columns[-1]]"
      ],
      "execution_count": null,
      "outputs": []
    },
    {
      "cell_type": "code",
      "metadata": {
        "colab_type": "code",
        "id": "Oa8IZytBnAEc",
        "colab": {}
      },
      "source": [
        "intpred = pd.DataFrame(prediction[prediction.columns[-1]].round())\n",
        "intpred"
      ],
      "execution_count": null,
      "outputs": []
    },
    {
      "cell_type": "code",
      "metadata": {
        "id": "Huts0BIslulB",
        "colab_type": "code",
        "colab": {}
      },
      "source": [
        "prediction['intpred'] = intpred\n",
        "prediction"
      ],
      "execution_count": null,
      "outputs": []
    },
    {
      "cell_type": "code",
      "metadata": {
        "id": "dR84lbFHj9rU",
        "colab_type": "code",
        "colab": {}
      },
      "source": [
        "import xgboost\n",
        "xgboost.plot_importance(model)\n"
      ],
      "execution_count": null,
      "outputs": []
    },
    {
      "cell_type": "code",
      "metadata": {
        "id": "KyjonNBRnV88",
        "colab_type": "code",
        "colab": {}
      },
      "source": [
        "newdf = df_raw.drop(columns=['cuisine','center_type'])\n",
        "newdf"
      ],
      "execution_count": null,
      "outputs": []
    },
    {
      "cell_type": "code",
      "metadata": {
        "id": "BhJVTj1Asirt",
        "colab_type": "code",
        "colab": {}
      },
      "source": [
        "newX_train, newX_test, newy_train, newy_test = train_test_split(newdf.drop(['num_orders','id','week'],axis=1), newdf.num_orders, test_size=0.2,shuffle=False)"
      ],
      "execution_count": null,
      "outputs": []
    },
    {
      "cell_type": "code",
      "metadata": {
        "colab_type": "code",
        "id": "cMfZq-CJtmfP",
        "colab": {}
      },
      "source": [
        "newmodel=XGBRegressor(max_depth=10,n_estimators=250, n_jobs=-1,subsample=0.8,eta=0.2)"
      ],
      "execution_count": null,
      "outputs": []
    },
    {
      "cell_type": "code",
      "metadata": {
        "id": "VFvIVfbOt8eD",
        "colab_type": "code",
        "colab": {}
      },
      "source": [
        "newmodel.fit(newX_train, newy_train)"
      ],
      "execution_count": null,
      "outputs": []
    },
    {
      "cell_type": "code",
      "metadata": {
        "id": "msZfyu3Zt471",
        "colab_type": "code",
        "colab": {}
      },
      "source": [
        "newmodel.score(newX_test,newy_test)"
      ],
      "execution_count": null,
      "outputs": []
    },
    {
      "cell_type": "code",
      "metadata": {
        "id": "Scpljh35ve6w",
        "colab_type": "code",
        "colab": {}
      },
      "source": [
        "xgboost.plot_importance(newmodel)"
      ],
      "execution_count": null,
      "outputs": []
    },
    {
      "cell_type": "code",
      "metadata": {
        "id": "VyCh5fdw71GN",
        "colab_type": "code",
        "colab": {}
      },
      "source": [
        ""
      ],
      "execution_count": null,
      "outputs": []
    }
  ]
}