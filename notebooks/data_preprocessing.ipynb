{
    "cells": [
        {
            "cell_type": "code",
            "execution_count": 1,
            "metadata": {
                "scrolled": true
            },
            "outputs": [
                {
                    "name": "stdout",
                    "output_type": "stream",
                    "text": "Waiting for a Spark session to start...\nSpark Initialization Done! ApplicationId = app-20200710162551-0000\nKERNEL_ID = f8e7bb3c-24d3-480f-8c99-0940fa51d484\n"
                }
            ],
            "source": "import pandas as pd\nimport numpy as np"
        },
        {
            "cell_type": "code",
            "execution_count": 2,
            "metadata": {},
            "outputs": [],
            "source": "from project_lib import Project"
        },
        {
            "cell_type": "code",
            "execution_count": 3,
            "metadata": {},
            "outputs": [],
            "source": "project=Project(sc,\"fdd9711f-93ac-4c2d-8bcd-fddc63ea3230\",\"p-5c52c31a5729dae7e86d21ebaedfae333bcafc42\")"
        },
        {
            "cell_type": "code",
            "execution_count": 12,
            "metadata": {},
            "outputs": [],
            "source": "train=project.get_file(\"train.csv\")\nmeal=project.get_file(\"meal_info.csv\")\nfulfilment=project.get_file(\"fulfilment_center_info.csv\")"
        },
        {
            "cell_type": "code",
            "execution_count": 13,
            "metadata": {},
            "outputs": [],
            "source": "df=pd.read_csv(train)\ndf1=pd.read_csv(meal)\ndf2=pd.read_csv(fulfilment)"
        },
        {
            "cell_type": "code",
            "execution_count": 18,
            "metadata": {},
            "outputs": [],
            "source": "df=pd.merge(df,df1,on=\"meal_id\")\ndf=df_raw=pd.merge(df,df2,on=\"center_id\")"
        },
        {
            "cell_type": "code",
            "execution_count": 8,
            "metadata": {},
            "outputs": [],
            "source": "def to_cat(df,cols):\n  mapping={}\n  for col in cols:\n    mapping[col]={}\n    df_cat=pd.DataFrame(df[col].astype('category'))\n    unq=df[col].unique()\n    for val in unq:\n      mapping[col][val]=df_cat.loc[df_cat[col]==val,col].cat.codes.iloc[0]\n    df.loc[:,col]=df[col].astype('category').cat.codes\n  return mapping"
        },
        {
            "cell_type": "code",
            "execution_count": 20,
            "metadata": {},
            "outputs": [],
            "source": "mapping=to_cat(df_raw,cols=['category','cuisine','center_type'])"
        },
        {
            "cell_type": "code",
            "execution_count": 23,
            "metadata": {},
            "outputs": [],
            "source": "df_raw.loc[:,'discount']=(df_raw['base_price']-df_raw['checkout_price'])*100/df['base_price']"
        },
        {
            "cell_type": "code",
            "execution_count": 24,
            "metadata": {},
            "outputs": [
                {
                    "data": {
                        "text/plain": "{'file_name': 'df_raw.csv',\n 'message': 'File saved to project storage.',\n 'bucket_name': 'ibmhack-donotdelete-pr-znhd62kfzc56ns',\n 'asset_id': '41cd1980-7bf4-49ae-bcf1-808ae5404b9a'}"
                    },
                    "execution_count": 24,
                    "metadata": {},
                    "output_type": "execute_result"
                }
            ],
            "source": "project.save_data(file_name = \"df_raw.csv\",data = df_raw.to_csv(index=False))"
        },
        {
            "cell_type": "code",
            "execution_count": 26,
            "metadata": {},
            "outputs": [],
            "source": "import pickle"
        },
        {
            "cell_type": "code",
            "execution_count": 27,
            "metadata": {},
            "outputs": [
                {
                    "data": {
                        "text/plain": "{'file_name': 'mapping.pickle',\n 'message': 'File saved to project storage.',\n 'bucket_name': 'ibmhack-donotdelete-pr-znhd62kfzc56ns',\n 'asset_id': '96902478-fa18-494a-ad98-17e075b746bf'}"
                    },
                    "execution_count": 27,
                    "metadata": {},
                    "output_type": "execute_result"
                }
            ],
            "source": "project.save_data(file_name = \"mapping.pickle\",data = pickle.dumps(mapping))"
        },
        {
            "cell_type": "code",
            "execution_count": null,
            "metadata": {},
            "outputs": [],
            "source": ""
        }
    ],
    "metadata": {
        "kernelspec": {
            "display_name": "Python 3.6 with Spark",
            "language": "python3",
            "name": "python36"
        },
        "language_info": {
            "codemirror_mode": {
                "name": "ipython",
                "version": 3
            },
            "file_extension": ".py",
            "mimetype": "text/x-python",
            "name": "python",
            "nbconvert_exporter": "python",
            "pygments_lexer": "ipython3",
            "version": "3.6.8"
        }
    },
    "nbformat": 4,
    "nbformat_minor": 4
}