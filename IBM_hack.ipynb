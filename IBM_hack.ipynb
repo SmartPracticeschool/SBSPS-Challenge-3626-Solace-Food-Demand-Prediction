{
  "nbformat": 4,
  "nbformat_minor": 0,
  "metadata": {
    "kernelspec": {
      "display_name": "Python 3",
      "language": "python",
      "name": "python3"
    },
    "language_info": {
      "codemirror_mode": {
        "name": "ipython",
        "version": 3
      },
      "file_extension": ".py",
      "mimetype": "text/x-python",
      "name": "python",
      "nbconvert_exporter": "python",
      "pygments_lexer": "ipython3",
      "version": "3.7.5"
    },
    "colab": {
      "name": "IBM hack",
      "provenance": [],
      "collapsed_sections": []
    },
    "accelerator": "GPU"
  },
  "cells": [
    {
      "cell_type": "markdown",
      "metadata": {
        "id": "8pYsZiwzevm4",
        "colab_type": "text"
      },
      "source": [
        "#Start#\n",
        "Data is imported into the notebook from their corresponding .csv files. The required python modules and packages are imported."
      ]
    },
    {
      "cell_type": "code",
      "metadata": {
        "id": "9jXXfCqjjhrZ",
        "colab_type": "code",
        "colab": {
          "base_uri": "https://localhost:8080/",
          "height": 142
        },
        "outputId": "e6124afb-9aba-41f7-b426-ee11c04d329f"
      },
      "source": [
        "from google.colab import drive\n",
        "drive.mount('/content/gdrive')\n",
        "root = 'gdrive/My Drive/IBM Hack/data/'"
      ],
      "execution_count": 1,
      "outputs": [
        {
          "output_type": "stream",
          "text": [
            "Go to this URL in a browser: https://accounts.google.com/o/oauth2/auth?client_id=947318989803-6bn6qk8qdgf4n4g3pfee6491hc0brc4i.apps.googleusercontent.com&redirect_uri=urn%3aietf%3awg%3aoauth%3a2.0%3aoob&response_type=code&scope=email%20https%3a%2f%2fwww.googleapis.com%2fauth%2fdocs.test%20https%3a%2f%2fwww.googleapis.com%2fauth%2fdrive%20https%3a%2f%2fwww.googleapis.com%2fauth%2fdrive.photos.readonly%20https%3a%2f%2fwww.googleapis.com%2fauth%2fpeopleapi.readonly\n",
            "\n",
            "Enter your authorization code:\n",
            "··········\n",
            "Mounted at /content/gdrive\n"
          ],
          "name": "stdout"
        }
      ]
    },
    {
      "cell_type": "code",
      "metadata": {
        "id": "iq8VTJ46xq57",
        "colab_type": "code",
        "colab": {}
      },
      "source": [
        "import pandas as pd\n",
        "import sklearn\n",
        "import numpy as np"
      ],
      "execution_count": 2,
      "outputs": []
    },
    {
      "cell_type": "code",
      "metadata": {
        "id": "abuYO3wAxq6C",
        "colab_type": "code",
        "colab": {}
      },
      "source": [
        "df1=pd.read_csv(f\"{root}train.csv\")"
      ],
      "execution_count": 3,
      "outputs": []
    },
    {
      "cell_type": "code",
      "metadata": {
        "id": "gJL5QTpGxq6H",
        "colab_type": "code",
        "colab": {}
      },
      "source": [
        "df2=pd.read_csv(f\"{root}meal_info.csv\")"
      ],
      "execution_count": 4,
      "outputs": []
    },
    {
      "cell_type": "code",
      "metadata": {
        "id": "qPmDB5qQxq6L",
        "colab_type": "code",
        "colab": {}
      },
      "source": [
        "df3=pd.read_csv(f\"{root}fulfilment_center_info.csv\")"
      ],
      "execution_count": 5,
      "outputs": []
    },
    {
      "cell_type": "markdown",
      "metadata": {
        "id": "-dsTfsKzfacI",
        "colab_type": "text"
      },
      "source": [
        "\n",
        "The 3 different dataframes are merged into one to perform further operations and derive inferences. Since the no. of columns of all 3 dataframes are same, they are merged without any shape changes."
      ]
    },
    {
      "cell_type": "code",
      "metadata": {
        "id": "c7ggxUfkxq6f",
        "colab_type": "code",
        "colab": {}
      },
      "source": [
        "df_raw=pd.merge(df1,df2,on='meal_id')\n",
        "df_raw=df=pd.merge(df_raw,df3,on='center_id')"
      ],
      "execution_count": 6,
      "outputs": []
    },
    {
      "cell_type": "code",
      "metadata": {
        "id": "qS_KfqSBoW9p",
        "colab_type": "code",
        "colab": {}
      },
      "source": [
        "df_raw.to_csv(f\"{root}/df_raw.csv\")"
      ],
      "execution_count": 7,
      "outputs": []
    },
    {
      "cell_type": "markdown",
      "metadata": {
        "id": "Y2p9GFQYgAEp",
        "colab_type": "text"
      },
      "source": [
        "The combined dataframe is then viewed to see all the columns and it's shape."
      ]
    },
    {
      "cell_type": "code",
      "metadata": {
        "id": "ITD4WoDckSYd",
        "colab_type": "code",
        "colab": {}
      },
      "source": [
        "def to_cat(df,cols):\n",
        "  mapping={}\n",
        "  for col in cols:\n",
        "    mapping[col]={}\n",
        "    df_cat=pd.DataFrame(df[col].astype('category'))\n",
        "    unq=df[col].unique()\n",
        "    for val in unq:\n",
        "      mapping[col][val]=df_cat.loc[df_cat[col]==val,col].cat.codes.iloc[0]\n",
        "    df.loc[:,col]=df[col].astype('category').cat.codes\n",
        "  return mapping"
      ],
      "execution_count": null,
      "outputs": []
    },
    {
      "cell_type": "code",
      "metadata": {
        "id": "RBnfLUMsxq6r",
        "colab_type": "code",
        "colab": {}
      },
      "source": [
        "mapping=to_cat(df,['category','cuisine','center_type'])\n",
        "df['discount']=(df.base_price-df.checkout_price)/df.base_price"
      ],
      "execution_count": null,
      "outputs": []
    },
    {
      "cell_type": "markdown",
      "metadata": {
        "id": "CqQUKEhPgi3g",
        "colab_type": "text"
      },
      "source": [
        "The categories are then label encoded to perform different operations on the data."
      ]
    },
    {
      "cell_type": "code",
      "metadata": {
        "id": "1XdSZswlqPd4",
        "colab_type": "code",
        "colab": {}
      },
      "source": [
        "from sklearn.model_selection import train_test_split"
      ],
      "execution_count": null,
      "outputs": []
    },
    {
      "cell_type": "code",
      "metadata": {
        "id": "27sJsdLnBTDv",
        "colab_type": "code",
        "colab": {}
      },
      "source": [
        "X_train, X_test, y_train, y_test = train_test_split(df.drop(['num_orders','id','week'],axis=1), df.num_orders, test_size=0.2,shuffle=False)"
      ],
      "execution_count": null,
      "outputs": []
    },
    {
      "cell_type": "markdown",
      "metadata": {
        "id": "WumIioyAg8uW",
        "colab_type": "text"
      },
      "source": [
        "The dataset is then split into train and test data with a specific weightage. This helps in improving the accuracy of the model on the real test dataset because we are able to derive inferences about the model from the mock test dataset which helps in twitching the model for better performance."
      ]
    },
    {
      "cell_type": "code",
      "metadata": {
        "id": "bDNBx2kTBshc",
        "colab_type": "code",
        "colab": {}
      },
      "source": [
        "from xgboost import XGBRegressor, DMatrix"
      ],
      "execution_count": null,
      "outputs": []
    },
    {
      "cell_type": "code",
      "metadata": {
        "id": "pMQ_-M5iKtz0",
        "colab_type": "code",
        "colab": {}
      },
      "source": [
        "model=XGBRegressor(max_depth=10,n_estimators=200, n_jobs=-1,subsample=0.8,eta=0.2)"
      ],
      "execution_count": null,
      "outputs": []
    },
    {
      "cell_type": "code",
      "metadata": {
        "id": "jD_I0ulNrDsI",
        "colab_type": "code",
        "colab": {
          "base_uri": "https://localhost:8080/",
          "height": 158
        },
        "outputId": "5e04ca80-8458-46f9-c235-a441b332da69"
      },
      "source": [
        "model.fit(X_train, y_train)"
      ],
      "execution_count": null,
      "outputs": [
        {
          "output_type": "stream",
          "text": [
            "[16:19:34] WARNING: /workspace/src/objective/regression_obj.cu:152: reg:linear is now deprecated in favor of reg:squarederror.\n"
          ],
          "name": "stdout"
        },
        {
          "output_type": "execute_result",
          "data": {
            "text/plain": [
              "XGBRegressor(base_score=0.5, booster='gbtree', colsample_bylevel=1,\n",
              "             colsample_bynode=1, colsample_bytree=1, eta=0.2, gamma=0,\n",
              "             importance_type='gain', learning_rate=0.1, max_delta_step=0,\n",
              "             max_depth=10, min_child_weight=1, missing=None, n_estimators=200,\n",
              "             n_jobs=-1, nthread=None, objective='reg:linear', random_state=0,\n",
              "             reg_alpha=0, reg_lambda=1, scale_pos_weight=1, seed=None,\n",
              "             silent=None, subsample=0.8, verbosity=1)"
            ]
          },
          "metadata": {
            "tags": []
          },
          "execution_count": 76
        }
      ]
    },
    {
      "cell_type": "code",
      "metadata": {
        "id": "k1BBFSekrG9Q",
        "colab_type": "code",
        "colab": {
          "base_uri": "https://localhost:8080/",
          "height": 34
        },
        "outputId": "eabe7e35-3bda-4930-d864-a1f657d7308e"
      },
      "source": [
        "model.score(X_train,y_train,)"
      ],
      "execution_count": null,
      "outputs": [
        {
          "output_type": "execute_result",
          "data": {
            "text/plain": [
              "0.9271601528636612"
            ]
          },
          "metadata": {
            "tags": []
          },
          "execution_count": 77
        }
      ]
    },
    {
      "cell_type": "code",
      "metadata": {
        "id": "CV2cvCMvQQqn",
        "colab_type": "code",
        "colab": {}
      },
      "source": [
        "def rmsle(predt, dtrain):\n",
        "    ''' Root mean squared log error metric.'''\n",
        "    y = dtrain.get_label()\n",
        "    predt[predt < -1] = -1 + 1e-6\n",
        "    elements = np.power(np.log1p(y) - np.log1p(predt), 2)\n",
        "    return 'PyRMSLE', float(np.sqrt(np.sum(elements) / len(y)))\n"
      ],
      "execution_count": null,
      "outputs": []
    },
    {
      "cell_type": "code",
      "metadata": {
        "id": "JzcCn5rXoLGq",
        "colab_type": "code",
        "colab": {
          "base_uri": "https://localhost:8080/",
          "height": 34
        },
        "outputId": "1fa9131a-f824-4c0e-a0e8-f3ea6c98b8dc"
      },
      "source": [
        "model.score(X_test,y_test)"
      ],
      "execution_count": null,
      "outputs": [
        {
          "output_type": "execute_result",
          "data": {
            "text/plain": [
              "0.6830388232370597"
            ]
          },
          "metadata": {
            "tags": []
          },
          "execution_count": 79
        }
      ]
    },
    {
      "cell_type": "code",
      "metadata": {
        "id": "LPCfM7yMJXS2",
        "colab_type": "code",
        "colab": {}
      },
      "source": [
        "import matplotlib.pyplot as plt\n"
      ],
      "execution_count": null,
      "outputs": []
    },
    {
      "cell_type": "code",
      "metadata": {
        "id": "LH5c5SA1KALk",
        "colab_type": "code",
        "colab": {}
      },
      "source": [
        "feat_imps={key:value for key,value in zip(X_train.columns,model.feature_importances_)}"
      ],
      "execution_count": null,
      "outputs": []
    },
    {
      "cell_type": "code",
      "metadata": {
        "id": "5aQkc_78ISjm",
        "colab_type": "code",
        "colab": {
          "base_uri": "https://localhost:8080/",
          "height": 508
        },
        "outputId": "92687f35-566b-4ad5-ab06-03f513037c8c"
      },
      "source": [
        "plt.figure(figsize=(30,10))\n",
        "plt.bar(*zip(*feat_imps.items()))"
      ],
      "execution_count": null,
      "outputs": [
        {
          "output_type": "execute_result",
          "data": {
            "text/plain": [
              "<BarContainer object of 13 artists>"
            ]
          },
          "metadata": {
            "tags": []
          },
          "execution_count": 82
        },
        {
          "output_type": "display_data",
          "data": {
            "image/png": "[encoded data removed]",
            "text/plain": [
              "<Figure size 2160x720 with 1 Axes>"
            ]
          },
          "metadata": {
            "tags": [],
            "needs_background": "light"
          }
        }
      ]
    },
    {
      "cell_type": "code",
      "metadata": {
        "id": "qFIsu2CKwFHX",
        "colab_type": "code",
        "colab": {}
      },
      "source": [
        "from sklearn.metrics import roc_auc_score"
      ],
      "execution_count": null,
      "outputs": []
    },
    {
      "cell_type": "code",
      "metadata": {
        "id": "WXPY6kg5vJsX",
        "colab_type": "code",
        "colab": {}
      },
      "source": [
        "def best_ntree_score(estimator, X, y):\n",
        "    \"\"\"\n",
        "    This scorer uses the best_ntree_limit to return\n",
        "    the best AUC ROC score\n",
        "    \"\"\"\n",
        "    try:\n",
        "        y_predict = estimator.predict(X,ntree_limit=estimator.best_ntree_limit)\n",
        "    except AttributeError:\n",
        "        y_predict = estimator.predict(X)\n",
        "    return roc_auc_score(y, y_predict[:, 1])"
      ],
      "execution_count": null,
      "outputs": []
    },
    {
      "cell_type": "code",
      "metadata": {
        "id": "4HSOQL3Gvit8",
        "colab_type": "code",
        "colab": {}
      },
      "source": [
        ""
      ],
      "execution_count": null,
      "outputs": []
    },
    {
      "cell_type": "code",
      "metadata": {
        "id": "CGw1swuBr2Bu",
        "colab_type": "code",
        "colab": {}
      },
      "source": [
        "yhat = model.predict(X_test)"
      ],
      "execution_count": null,
      "outputs": []
    },
    {
      "cell_type": "code",
      "metadata": {
        "id": "gKIFfFxVr8_E",
        "colab_type": "code",
        "colab": {
          "base_uri": "https://localhost:8080/",
          "height": 34
        },
        "outputId": "4efd1dc6-af46-4b23-9702-498622b248ea"
      },
      "source": [
        "yhat = pd.DataFrame(yhat)\n",
        "yhat.shape"
      ],
      "execution_count": null,
      "outputs": [
        {
          "output_type": "execute_result",
          "data": {
            "text/plain": [
              "(91310, 1)"
            ]
          },
          "metadata": {
            "tags": []
          },
          "execution_count": 86
        }
      ]
    },
    {
      "cell_type": "code",
      "metadata": {
        "id": "U2u0_4CJZhpU",
        "colab_type": "code",
        "colab": {
          "base_uri": "https://localhost:8080/",
          "height": 402
        },
        "outputId": "a0829ac6-016f-46fa-bbd4-a890e828d4ed"
      },
      "source": [
        "X_test.reset_index(inplace=True)\n",
        "X_test.rename(columns={\"index\":\"row_id\"},inplace=True)\n",
        "X_test\n"
      ],
      "execution_count": null,
      "outputs": [
        {
          "output_type": "execute_result",
          "data": {
            "text/html": [
              "<div>\n",
              "<style scoped>\n",
              "    .dataframe tbody tr th:only-of-type {\n",
              "        vertical-align: middle;\n",
              "    }\n",
              "\n",
              "    .dataframe tbody tr th {\n",
              "        vertical-align: top;\n",
              "    }\n",
              "\n",
              "    .dataframe thead th {\n",
              "        text-align: right;\n",
              "    }\n",
              "</style>\n",
              "<table border=\"1\" class=\"dataframe\">\n",
              "  <thead>\n",
              "    <tr style=\"text-align: right;\">\n",
              "      <th></th>\n",
              "      <th>row_id</th>\n",
              "      <th>center_id</th>\n",
              "      <th>meal_id</th>\n",
              "      <th>checkout_price</th>\n",
              "      <th>base_price</th>\n",
              "      <th>emailer_for_promotion</th>\n",
              "      <th>homepage_featured</th>\n",
              "      <th>category</th>\n",
              "      <th>cuisine</th>\n",
              "      <th>city_code</th>\n",
              "      <th>region_code</th>\n",
              "      <th>center_type</th>\n",
              "      <th>op_area</th>\n",
              "      <th>discount</th>\n",
              "    </tr>\n",
              "  </thead>\n",
              "  <tbody>\n",
              "    <tr>\n",
              "      <th>0</th>\n",
              "      <td>365238</td>\n",
              "      <td>58</td>\n",
              "      <td>2139</td>\n",
              "      <td>432.62</td>\n",
              "      <td>432.62</td>\n",
              "      <td>0</td>\n",
              "      <td>0</td>\n",
              "      <td>0</td>\n",
              "      <td>1</td>\n",
              "      <td>695</td>\n",
              "      <td>77</td>\n",
              "      <td>2</td>\n",
              "      <td>3.8</td>\n",
              "      <td>0.000000</td>\n",
              "    </tr>\n",
              "    <tr>\n",
              "      <th>1</th>\n",
              "      <td>365239</td>\n",
              "      <td>58</td>\n",
              "      <td>2139</td>\n",
              "      <td>456.93</td>\n",
              "      <td>454.93</td>\n",
              "      <td>0</td>\n",
              "      <td>0</td>\n",
              "      <td>0</td>\n",
              "      <td>1</td>\n",
              "      <td>695</td>\n",
              "      <td>77</td>\n",
              "      <td>2</td>\n",
              "      <td>3.8</td>\n",
              "      <td>-0.004396</td>\n",
              "    </tr>\n",
              "    <tr>\n",
              "      <th>2</th>\n",
              "      <td>365240</td>\n",
              "      <td>58</td>\n",
              "      <td>2139</td>\n",
              "      <td>432.62</td>\n",
              "      <td>434.62</td>\n",
              "      <td>0</td>\n",
              "      <td>0</td>\n",
              "      <td>0</td>\n",
              "      <td>1</td>\n",
              "      <td>695</td>\n",
              "      <td>77</td>\n",
              "      <td>2</td>\n",
              "      <td>3.8</td>\n",
              "      <td>0.004602</td>\n",
              "    </tr>\n",
              "    <tr>\n",
              "      <th>3</th>\n",
              "      <td>365241</td>\n",
              "      <td>58</td>\n",
              "      <td>2139</td>\n",
              "      <td>455.93</td>\n",
              "      <td>454.93</td>\n",
              "      <td>0</td>\n",
              "      <td>0</td>\n",
              "      <td>0</td>\n",
              "      <td>1</td>\n",
              "      <td>695</td>\n",
              "      <td>77</td>\n",
              "      <td>2</td>\n",
              "      <td>3.8</td>\n",
              "      <td>-0.002198</td>\n",
              "    </tr>\n",
              "    <tr>\n",
              "      <th>4</th>\n",
              "      <td>365242</td>\n",
              "      <td>58</td>\n",
              "      <td>2139</td>\n",
              "      <td>454.93</td>\n",
              "      <td>454.93</td>\n",
              "      <td>0</td>\n",
              "      <td>0</td>\n",
              "      <td>0</td>\n",
              "      <td>1</td>\n",
              "      <td>695</td>\n",
              "      <td>77</td>\n",
              "      <td>2</td>\n",
              "      <td>3.8</td>\n",
              "      <td>0.000000</td>\n",
              "    </tr>\n",
              "    <tr>\n",
              "      <th>...</th>\n",
              "      <td>...</td>\n",
              "      <td>...</td>\n",
              "      <td>...</td>\n",
              "      <td>...</td>\n",
              "      <td>...</td>\n",
              "      <td>...</td>\n",
              "      <td>...</td>\n",
              "      <td>...</td>\n",
              "      <td>...</td>\n",
              "      <td>...</td>\n",
              "      <td>...</td>\n",
              "      <td>...</td>\n",
              "      <td>...</td>\n",
              "      <td>...</td>\n",
              "    </tr>\n",
              "    <tr>\n",
              "      <th>91305</th>\n",
              "      <td>456543</td>\n",
              "      <td>61</td>\n",
              "      <td>2104</td>\n",
              "      <td>583.03</td>\n",
              "      <td>630.53</td>\n",
              "      <td>0</td>\n",
              "      <td>1</td>\n",
              "      <td>4</td>\n",
              "      <td>0</td>\n",
              "      <td>473</td>\n",
              "      <td>77</td>\n",
              "      <td>0</td>\n",
              "      <td>4.5</td>\n",
              "      <td>0.075333</td>\n",
              "    </tr>\n",
              "    <tr>\n",
              "      <th>91306</th>\n",
              "      <td>456544</td>\n",
              "      <td>61</td>\n",
              "      <td>2104</td>\n",
              "      <td>581.03</td>\n",
              "      <td>582.03</td>\n",
              "      <td>0</td>\n",
              "      <td>0</td>\n",
              "      <td>4</td>\n",
              "      <td>0</td>\n",
              "      <td>473</td>\n",
              "      <td>77</td>\n",
              "      <td>0</td>\n",
              "      <td>4.5</td>\n",
              "      <td>0.001718</td>\n",
              "    </tr>\n",
              "    <tr>\n",
              "      <th>91307</th>\n",
              "      <td>456545</td>\n",
              "      <td>61</td>\n",
              "      <td>2104</td>\n",
              "      <td>583.03</td>\n",
              "      <td>581.03</td>\n",
              "      <td>0</td>\n",
              "      <td>0</td>\n",
              "      <td>4</td>\n",
              "      <td>0</td>\n",
              "      <td>473</td>\n",
              "      <td>77</td>\n",
              "      <td>0</td>\n",
              "      <td>4.5</td>\n",
              "      <td>-0.003442</td>\n",
              "    </tr>\n",
              "    <tr>\n",
              "      <th>91308</th>\n",
              "      <td>456546</td>\n",
              "      <td>61</td>\n",
              "      <td>2104</td>\n",
              "      <td>582.03</td>\n",
              "      <td>581.03</td>\n",
              "      <td>0</td>\n",
              "      <td>0</td>\n",
              "      <td>4</td>\n",
              "      <td>0</td>\n",
              "      <td>473</td>\n",
              "      <td>77</td>\n",
              "      <td>0</td>\n",
              "      <td>4.5</td>\n",
              "      <td>-0.001721</td>\n",
              "    </tr>\n",
              "    <tr>\n",
              "      <th>91309</th>\n",
              "      <td>456547</td>\n",
              "      <td>61</td>\n",
              "      <td>2104</td>\n",
              "      <td>581.03</td>\n",
              "      <td>582.03</td>\n",
              "      <td>0</td>\n",
              "      <td>0</td>\n",
              "      <td>4</td>\n",
              "      <td>0</td>\n",
              "      <td>473</td>\n",
              "      <td>77</td>\n",
              "      <td>0</td>\n",
              "      <td>4.5</td>\n",
              "      <td>0.001718</td>\n",
              "    </tr>\n",
              "  </tbody>\n",
              "</table>\n",
              "<p>91310 rows × 14 columns</p>\n",
              "</div>"
            ],
            "text/plain": [
              "       row_id  center_id  meal_id  ...  center_type  op_area  discount\n",
              "0      365238         58     2139  ...            2      3.8  0.000000\n",
              "1      365239         58     2139  ...            2      3.8 -0.004396\n",
              "2      365240         58     2139  ...            2      3.8  0.004602\n",
              "3      365241         58     2139  ...            2      3.8 -0.002198\n",
              "4      365242         58     2139  ...            2      3.8  0.000000\n",
              "...       ...        ...      ...  ...          ...      ...       ...\n",
              "91305  456543         61     2104  ...            0      4.5  0.075333\n",
              "91306  456544         61     2104  ...            0      4.5  0.001718\n",
              "91307  456545         61     2104  ...            0      4.5 -0.003442\n",
              "91308  456546         61     2104  ...            0      4.5 -0.001721\n",
              "91309  456547         61     2104  ...            0      4.5  0.001718\n",
              "\n",
              "[91310 rows x 14 columns]"
            ]
          },
          "metadata": {
            "tags": []
          },
          "execution_count": 87
        }
      ]
    },
    {
      "cell_type": "code",
      "metadata": {
        "id": "oopkzvujdSSJ",
        "colab_type": "code",
        "colab": {
          "base_uri": "https://localhost:8080/",
          "height": 34
        },
        "outputId": "a9776ac9-337b-44b5-9000-97bd65529b94"
      },
      "source": [
        "X_test.shape"
      ],
      "execution_count": null,
      "outputs": [
        {
          "output_type": "execute_result",
          "data": {
            "text/plain": [
              "(91310, 14)"
            ]
          },
          "metadata": {
            "tags": []
          },
          "execution_count": 88
        }
      ]
    },
    {
      "cell_type": "code",
      "metadata": {
        "id": "TYnyB_d3dWy8",
        "colab_type": "code",
        "colab": {
          "base_uri": "https://localhost:8080/",
          "height": 34
        },
        "outputId": "20b0d087-8bab-4409-ec55-33d5c03694dd"
      },
      "source": [
        "yhat.shape"
      ],
      "execution_count": null,
      "outputs": [
        {
          "output_type": "execute_result",
          "data": {
            "text/plain": [
              "(91310, 1)"
            ]
          },
          "metadata": {
            "tags": []
          },
          "execution_count": 89
        }
      ]
    },
    {
      "cell_type": "code",
      "metadata": {
        "id": "of330ebaZ3Hd",
        "colab_type": "code",
        "colab": {}
      },
      "source": [
        "\n",
        "prediction = pd.concat([X_test,yhat], axis=1, ignore_index=False)\n",
        "prediction.rename(columns={'0':'pred'},inplace=True)\n"
      ],
      "execution_count": null,
      "outputs": []
    },
    {
      "cell_type": "code",
      "metadata": {
        "id": "nIP3Wyh4k4zu",
        "colab_type": "code",
        "colab": {}
      },
      "source": [
        "prediction.rename(columns={'Unnamed: 0' : 'prediction'},inplace =True)"
      ],
      "execution_count": null,
      "outputs": []
    },
    {
      "cell_type": "code",
      "metadata": {
        "id": "0z-o2dbIm9_l",
        "colab_type": "code",
        "colab": {
          "base_uri": "https://localhost:8080/",
          "height": 228
        },
        "outputId": "b25bc3d1-992c-4526-bf79-5ebd09f99c2d"
      },
      "source": [
        "prediction[prediction.columns[-1]]"
      ],
      "execution_count": null,
      "outputs": [
        {
          "output_type": "execute_result",
          "data": {
            "text/plain": [
              "0         24.914743\n",
              "1         19.569118\n",
              "2         24.790693\n",
              "3         20.883289\n",
              "4         20.712687\n",
              "            ...    \n",
              "91305    146.115921\n",
              "91306     70.807304\n",
              "91307     70.297394\n",
              "91308     70.807304\n",
              "91309     70.807304\n",
              "Name: 0, Length: 91310, dtype: float32"
            ]
          },
          "metadata": {
            "tags": []
          },
          "execution_count": 116
        }
      ]
    },
    {
      "cell_type": "code",
      "metadata": {
        "colab_type": "code",
        "id": "Oa8IZytBnAEc",
        "colab": {
          "base_uri": "https://localhost:8080/",
          "height": 402
        },
        "outputId": "81ef47f1-e501-4867-a2ba-01a44b7db551"
      },
      "source": [
        "intpred = pd.DataFrame(prediction[prediction.columns[-1]].round())\n",
        "intpred"
      ],
      "execution_count": null,
      "outputs": [
        {
          "output_type": "execute_result",
          "data": {
            "text/html": [
              "<div>\n",
              "<style scoped>\n",
              "    .dataframe tbody tr th:only-of-type {\n",
              "        vertical-align: middle;\n",
              "    }\n",
              "\n",
              "    .dataframe tbody tr th {\n",
              "        vertical-align: top;\n",
              "    }\n",
              "\n",
              "    .dataframe thead th {\n",
              "        text-align: right;\n",
              "    }\n",
              "</style>\n",
              "<table border=\"1\" class=\"dataframe\">\n",
              "  <thead>\n",
              "    <tr style=\"text-align: right;\">\n",
              "      <th></th>\n",
              "      <th>0</th>\n",
              "    </tr>\n",
              "  </thead>\n",
              "  <tbody>\n",
              "    <tr>\n",
              "      <th>0</th>\n",
              "      <td>25.0</td>\n",
              "    </tr>\n",
              "    <tr>\n",
              "      <th>1</th>\n",
              "      <td>20.0</td>\n",
              "    </tr>\n",
              "    <tr>\n",
              "      <th>2</th>\n",
              "      <td>25.0</td>\n",
              "    </tr>\n",
              "    <tr>\n",
              "      <th>3</th>\n",
              "      <td>21.0</td>\n",
              "    </tr>\n",
              "    <tr>\n",
              "      <th>4</th>\n",
              "      <td>21.0</td>\n",
              "    </tr>\n",
              "    <tr>\n",
              "      <th>...</th>\n",
              "      <td>...</td>\n",
              "    </tr>\n",
              "    <tr>\n",
              "      <th>91305</th>\n",
              "      <td>146.0</td>\n",
              "    </tr>\n",
              "    <tr>\n",
              "      <th>91306</th>\n",
              "      <td>71.0</td>\n",
              "    </tr>\n",
              "    <tr>\n",
              "      <th>91307</th>\n",
              "      <td>70.0</td>\n",
              "    </tr>\n",
              "    <tr>\n",
              "      <th>91308</th>\n",
              "      <td>71.0</td>\n",
              "    </tr>\n",
              "    <tr>\n",
              "      <th>91309</th>\n",
              "      <td>71.0</td>\n",
              "    </tr>\n",
              "  </tbody>\n",
              "</table>\n",
              "<p>91310 rows × 1 columns</p>\n",
              "</div>"
            ],
            "text/plain": [
              "           0\n",
              "0       25.0\n",
              "1       20.0\n",
              "2       25.0\n",
              "3       21.0\n",
              "4       21.0\n",
              "...      ...\n",
              "91305  146.0\n",
              "91306   71.0\n",
              "91307   70.0\n",
              "91308   71.0\n",
              "91309   71.0\n",
              "\n",
              "[91310 rows x 1 columns]"
            ]
          },
          "metadata": {
            "tags": []
          },
          "execution_count": 114
        }
      ]
    },
    {
      "cell_type": "code",
      "metadata": {
        "id": "Huts0BIslulB",
        "colab_type": "code",
        "colab": {
          "base_uri": "https://localhost:8080/",
          "height": 422
        },
        "outputId": "a01f0560-cc53-4ff0-face-08a4ad228e35"
      },
      "source": [
        "prediction['intpred'] = intpred\n",
        "prediction"
      ],
      "execution_count": null,
      "outputs": [
        {
          "output_type": "execute_result",
          "data": {
            "text/html": [
              "<div>\n",
              "<style scoped>\n",
              "    .dataframe tbody tr th:only-of-type {\n",
              "        vertical-align: middle;\n",
              "    }\n",
              "\n",
              "    .dataframe tbody tr th {\n",
              "        vertical-align: top;\n",
              "    }\n",
              "\n",
              "    .dataframe thead th {\n",
              "        text-align: right;\n",
              "    }\n",
              "</style>\n",
              "<table border=\"1\" class=\"dataframe\">\n",
              "  <thead>\n",
              "    <tr style=\"text-align: right;\">\n",
              "      <th></th>\n",
              "      <th>row_id</th>\n",
              "      <th>center_id</th>\n",
              "      <th>meal_id</th>\n",
              "      <th>checkout_price</th>\n",
              "      <th>base_price</th>\n",
              "      <th>emailer_for_promotion</th>\n",
              "      <th>homepage_featured</th>\n",
              "      <th>category</th>\n",
              "      <th>cuisine</th>\n",
              "      <th>city_code</th>\n",
              "      <th>region_code</th>\n",
              "      <th>center_type</th>\n",
              "      <th>op_area</th>\n",
              "      <th>discount</th>\n",
              "      <th>0</th>\n",
              "      <th>intpred</th>\n",
              "    </tr>\n",
              "  </thead>\n",
              "  <tbody>\n",
              "    <tr>\n",
              "      <th>0</th>\n",
              "      <td>365238</td>\n",
              "      <td>58</td>\n",
              "      <td>2139</td>\n",
              "      <td>432.62</td>\n",
              "      <td>432.62</td>\n",
              "      <td>0</td>\n",
              "      <td>0</td>\n",
              "      <td>0</td>\n",
              "      <td>1</td>\n",
              "      <td>695</td>\n",
              "      <td>77</td>\n",
              "      <td>2</td>\n",
              "      <td>3.8</td>\n",
              "      <td>0.000000</td>\n",
              "      <td>24.914743</td>\n",
              "      <td>25.0</td>\n",
              "    </tr>\n",
              "    <tr>\n",
              "      <th>1</th>\n",
              "      <td>365239</td>\n",
              "      <td>58</td>\n",
              "      <td>2139</td>\n",
              "      <td>456.93</td>\n",
              "      <td>454.93</td>\n",
              "      <td>0</td>\n",
              "      <td>0</td>\n",
              "      <td>0</td>\n",
              "      <td>1</td>\n",
              "      <td>695</td>\n",
              "      <td>77</td>\n",
              "      <td>2</td>\n",
              "      <td>3.8</td>\n",
              "      <td>-0.004396</td>\n",
              "      <td>19.569118</td>\n",
              "      <td>20.0</td>\n",
              "    </tr>\n",
              "    <tr>\n",
              "      <th>2</th>\n",
              "      <td>365240</td>\n",
              "      <td>58</td>\n",
              "      <td>2139</td>\n",
              "      <td>432.62</td>\n",
              "      <td>434.62</td>\n",
              "      <td>0</td>\n",
              "      <td>0</td>\n",
              "      <td>0</td>\n",
              "      <td>1</td>\n",
              "      <td>695</td>\n",
              "      <td>77</td>\n",
              "      <td>2</td>\n",
              "      <td>3.8</td>\n",
              "      <td>0.004602</td>\n",
              "      <td>24.790693</td>\n",
              "      <td>25.0</td>\n",
              "    </tr>\n",
              "    <tr>\n",
              "      <th>3</th>\n",
              "      <td>365241</td>\n",
              "      <td>58</td>\n",
              "      <td>2139</td>\n",
              "      <td>455.93</td>\n",
              "      <td>454.93</td>\n",
              "      <td>0</td>\n",
              "      <td>0</td>\n",
              "      <td>0</td>\n",
              "      <td>1</td>\n",
              "      <td>695</td>\n",
              "      <td>77</td>\n",
              "      <td>2</td>\n",
              "      <td>3.8</td>\n",
              "      <td>-0.002198</td>\n",
              "      <td>20.883289</td>\n",
              "      <td>21.0</td>\n",
              "    </tr>\n",
              "    <tr>\n",
              "      <th>4</th>\n",
              "      <td>365242</td>\n",
              "      <td>58</td>\n",
              "      <td>2139</td>\n",
              "      <td>454.93</td>\n",
              "      <td>454.93</td>\n",
              "      <td>0</td>\n",
              "      <td>0</td>\n",
              "      <td>0</td>\n",
              "      <td>1</td>\n",
              "      <td>695</td>\n",
              "      <td>77</td>\n",
              "      <td>2</td>\n",
              "      <td>3.8</td>\n",
              "      <td>0.000000</td>\n",
              "      <td>20.712687</td>\n",
              "      <td>21.0</td>\n",
              "    </tr>\n",
              "    <tr>\n",
              "      <th>...</th>\n",
              "      <td>...</td>\n",
              "      <td>...</td>\n",
              "      <td>...</td>\n",
              "      <td>...</td>\n",
              "      <td>...</td>\n",
              "      <td>...</td>\n",
              "      <td>...</td>\n",
              "      <td>...</td>\n",
              "      <td>...</td>\n",
              "      <td>...</td>\n",
              "      <td>...</td>\n",
              "      <td>...</td>\n",
              "      <td>...</td>\n",
              "      <td>...</td>\n",
              "      <td>...</td>\n",
              "      <td>...</td>\n",
              "    </tr>\n",
              "    <tr>\n",
              "      <th>91305</th>\n",
              "      <td>456543</td>\n",
              "      <td>61</td>\n",
              "      <td>2104</td>\n",
              "      <td>583.03</td>\n",
              "      <td>630.53</td>\n",
              "      <td>0</td>\n",
              "      <td>1</td>\n",
              "      <td>4</td>\n",
              "      <td>0</td>\n",
              "      <td>473</td>\n",
              "      <td>77</td>\n",
              "      <td>0</td>\n",
              "      <td>4.5</td>\n",
              "      <td>0.075333</td>\n",
              "      <td>146.115921</td>\n",
              "      <td>146.0</td>\n",
              "    </tr>\n",
              "    <tr>\n",
              "      <th>91306</th>\n",
              "      <td>456544</td>\n",
              "      <td>61</td>\n",
              "      <td>2104</td>\n",
              "      <td>581.03</td>\n",
              "      <td>582.03</td>\n",
              "      <td>0</td>\n",
              "      <td>0</td>\n",
              "      <td>4</td>\n",
              "      <td>0</td>\n",
              "      <td>473</td>\n",
              "      <td>77</td>\n",
              "      <td>0</td>\n",
              "      <td>4.5</td>\n",
              "      <td>0.001718</td>\n",
              "      <td>70.807304</td>\n",
              "      <td>71.0</td>\n",
              "    </tr>\n",
              "    <tr>\n",
              "      <th>91307</th>\n",
              "      <td>456545</td>\n",
              "      <td>61</td>\n",
              "      <td>2104</td>\n",
              "      <td>583.03</td>\n",
              "      <td>581.03</td>\n",
              "      <td>0</td>\n",
              "      <td>0</td>\n",
              "      <td>4</td>\n",
              "      <td>0</td>\n",
              "      <td>473</td>\n",
              "      <td>77</td>\n",
              "      <td>0</td>\n",
              "      <td>4.5</td>\n",
              "      <td>-0.003442</td>\n",
              "      <td>70.297394</td>\n",
              "      <td>70.0</td>\n",
              "    </tr>\n",
              "    <tr>\n",
              "      <th>91308</th>\n",
              "      <td>456546</td>\n",
              "      <td>61</td>\n",
              "      <td>2104</td>\n",
              "      <td>582.03</td>\n",
              "      <td>581.03</td>\n",
              "      <td>0</td>\n",
              "      <td>0</td>\n",
              "      <td>4</td>\n",
              "      <td>0</td>\n",
              "      <td>473</td>\n",
              "      <td>77</td>\n",
              "      <td>0</td>\n",
              "      <td>4.5</td>\n",
              "      <td>-0.001721</td>\n",
              "      <td>70.807304</td>\n",
              "      <td>71.0</td>\n",
              "    </tr>\n",
              "    <tr>\n",
              "      <th>91309</th>\n",
              "      <td>456547</td>\n",
              "      <td>61</td>\n",
              "      <td>2104</td>\n",
              "      <td>581.03</td>\n",
              "      <td>582.03</td>\n",
              "      <td>0</td>\n",
              "      <td>0</td>\n",
              "      <td>4</td>\n",
              "      <td>0</td>\n",
              "      <td>473</td>\n",
              "      <td>77</td>\n",
              "      <td>0</td>\n",
              "      <td>4.5</td>\n",
              "      <td>0.001718</td>\n",
              "      <td>70.807304</td>\n",
              "      <td>71.0</td>\n",
              "    </tr>\n",
              "  </tbody>\n",
              "</table>\n",
              "<p>91310 rows × 16 columns</p>\n",
              "</div>"
            ],
            "text/plain": [
              "       row_id  center_id  meal_id  ...  discount           0  intpred\n",
              "0      365238         58     2139  ...  0.000000   24.914743     25.0\n",
              "1      365239         58     2139  ... -0.004396   19.569118     20.0\n",
              "2      365240         58     2139  ...  0.004602   24.790693     25.0\n",
              "3      365241         58     2139  ... -0.002198   20.883289     21.0\n",
              "4      365242         58     2139  ...  0.000000   20.712687     21.0\n",
              "...       ...        ...      ...  ...       ...         ...      ...\n",
              "91305  456543         61     2104  ...  0.075333  146.115921    146.0\n",
              "91306  456544         61     2104  ...  0.001718   70.807304     71.0\n",
              "91307  456545         61     2104  ... -0.003442   70.297394     70.0\n",
              "91308  456546         61     2104  ... -0.001721   70.807304     71.0\n",
              "91309  456547         61     2104  ...  0.001718   70.807304     71.0\n",
              "\n",
              "[91310 rows x 16 columns]"
            ]
          },
          "metadata": {
            "tags": []
          },
          "execution_count": 123
        }
      ]
    },
    {
      "cell_type": "code",
      "metadata": {
        "id": "dR84lbFHj9rU",
        "colab_type": "code",
        "colab": {}
      },
      "source": [
        ""
      ],
      "execution_count": null,
      "outputs": []
    }
  ]
}